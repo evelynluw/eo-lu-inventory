{
 "cells": [
  {
   "cell_type": "code",
   "execution_count": 1,
   "metadata": {},
   "outputs": [],
   "source": [
    "#This notebook cleans and formats data from data.acgov.org and exports the csv"
   ]
  },
  {
   "cell_type": "code",
   "execution_count": 2,
   "metadata": {},
   "outputs": [],
   "source": [
    "#This file includes the getAPN function which takes a string address as input and searches the acgov data for a matching parcel number."
   ]
  },
  {
   "cell_type": "code",
   "execution_count": 3,
   "metadata": {},
   "outputs": [],
   "source": [
    "import googlemaps\n",
    "import pandas\n",
    "import usaddress\n",
    "from scourgify import normalize_address_record as norm\n",
    "import zipcodes\n",
    "import wget ##added\n",
    "import os"
   ]
  },
  {
   "cell_type": "code",
   "execution_count": 121,
   "metadata": {},
   "outputs": [],
   "source": [
    "#import package for visual progress bars\n",
    "%%capture\n",
    "from tqdm.notebook import tqdm as tqdm\n",
    "tqdm().pandas()\n",
    "from IPython.display import clear_output"
   ]
  },
  {
   "cell_type": "code",
   "execution_count": 4,
   "metadata": {},
   "outputs": [],
   "source": [
    "APIkey = \"Insert Your API key for the google geocoder\"\n",
    "#https://developers.google.com/maps/documentation/geocoding/start"
   ]
  },
  {
   "cell_type": "code",
   "execution_count": 5,
   "metadata": {},
   "outputs": [],
   "source": [
    "gmaps = googlemaps.Client(key=APIkey)"
   ]
  },
  {
   "cell_type": "code",
   "execution_count": 6,
   "metadata": {},
   "outputs": [],
   "source": [
    "##############################################################################\n",
    "#https://data.acgov.org/datasets/86b6da3837a34f10b8493ea0d22f517a_0/data\n",
    "##############################################################################"
   ]
  },
  {
   "cell_type": "code",
   "execution_count": 7,
   "metadata": {},
   "outputs": [],
   "source": [
    "class StringConverter(dict):\n",
    "    def __contains__(self, item):\n",
    "        return True\n",
    "\n",
    "    def __getitem__(self, item):\n",
    "        return str\n",
    "\n",
    "    def get(self, default=None):\n",
    "        return str"
   ]
  },
  {
   "cell_type": "code",
   "execution_count": 8,
   "metadata": {},
   "outputs": [
    {
     "name": "stdout",
     "output_type": "stream",
     "text": [
      "removing old backup\n",
      "no existing files\n",
      "downloading latest version\n",
      "-1 / unknown\n",
      "\n",
      "downloaded: ../data/acgov/ac_gov_address_points.csv\n"
     ]
    }
   ],
   "source": [
    "# retrieve address points csv from ac gov website\n",
    "# https://data.acgov.org/datasets/86b6da3837a34f10b8493ea0d22f517a\n",
    "url = \"https://opendata.arcgis.com/datasets/86b6da3837a34f10b8493ea0d22f517a_0.csv\"\n",
    "path = \"../data/acgov/ac_gov_address_points.csv\"\n",
    "\n",
    "#delete backup if exists\n",
    "try:\n",
    "    os.remove(\"../data/acgov/ac_gov_address_points_(old).csv\")\n",
    "    print(\"removing old backup\")\n",
    "except:\n",
    "    print(\"no existing backup to clear\")\n",
    "    \n",
    "#backup most recent version\n",
    "try:\n",
    "    os.rename(path, \"../data/acgov/ac_gov_address_points_(old).csv\")\n",
    "    print(\"backing up\")\n",
    "except:\n",
    "    print(\"no existing files\")\n",
    "\n",
    "#download most recent version\n",
    "print(\"downloading latest version\")\n",
    "x=wget.download(url, path)\n",
    "print(\"\\n\")\n",
    "print(\"downloaded: \"+x)"
   ]
  },
  {
   "cell_type": "code",
   "execution_count": 9,
   "metadata": {},
   "outputs": [
    {
     "data": {
      "text/html": [
       "<div>\n",
       "<style scoped>\n",
       "    .dataframe tbody tr th:only-of-type {\n",
       "        vertical-align: middle;\n",
       "    }\n",
       "\n",
       "    .dataframe tbody tr th {\n",
       "        vertical-align: top;\n",
       "    }\n",
       "\n",
       "    .dataframe thead th {\n",
       "        text-align: right;\n",
       "    }\n",
       "</style>\n",
       "<table border=\"1\" class=\"dataframe\">\n",
       "  <thead>\n",
       "    <tr style=\"text-align: right;\">\n",
       "      <th></th>\n",
       "      <th>num</th>\n",
       "      <th>street</th>\n",
       "      <th>type</th>\n",
       "      <th>city</th>\n",
       "      <th>zip</th>\n",
       "      <th>address</th>\n",
       "      <th>APN</th>\n",
       "    </tr>\n",
       "  </thead>\n",
       "  <tbody>\n",
       "    <tr>\n",
       "      <th>0</th>\n",
       "      <td>1451</td>\n",
       "      <td>159TH</td>\n",
       "      <td>AV</td>\n",
       "      <td>SAN LEANDRO</td>\n",
       "      <td>94578</td>\n",
       "      <td>1451 159TH AV SAN LEANDRO 94578</td>\n",
       "      <td>080 004007200</td>\n",
       "    </tr>\n",
       "    <tr>\n",
       "      <th>1</th>\n",
       "      <td>1459</td>\n",
       "      <td>159TH</td>\n",
       "      <td>AV</td>\n",
       "      <td>SAN LEANDRO</td>\n",
       "      <td>94578</td>\n",
       "      <td>1459 159TH AV SAN LEANDRO 94578</td>\n",
       "      <td>080 004007200</td>\n",
       "    </tr>\n",
       "    <tr>\n",
       "      <th>2</th>\n",
       "      <td>1445</td>\n",
       "      <td>159TH</td>\n",
       "      <td>AV</td>\n",
       "      <td>SAN LEANDRO</td>\n",
       "      <td>94578</td>\n",
       "      <td>1445 159TH AV SAN LEANDRO 94578</td>\n",
       "      <td>080 004007304</td>\n",
       "    </tr>\n",
       "    <tr>\n",
       "      <th>3</th>\n",
       "      <td>15850</td>\n",
       "      <td>14TH</td>\n",
       "      <td>ST</td>\n",
       "      <td>SAN LEANDRO</td>\n",
       "      <td>94578</td>\n",
       "      <td>15850 E 14TH ST SAN LEANDRO 94578</td>\n",
       "      <td>080 004007810</td>\n",
       "    </tr>\n",
       "    <tr>\n",
       "      <th>4</th>\n",
       "      <td>1447</td>\n",
       "      <td>159TH</td>\n",
       "      <td>AV</td>\n",
       "      <td>SAN LEANDRO</td>\n",
       "      <td>94578</td>\n",
       "      <td>1447 159TH AV SAN LEANDRO 94578</td>\n",
       "      <td>080 004007304</td>\n",
       "    </tr>\n",
       "  </tbody>\n",
       "</table>\n",
       "</div>"
      ],
      "text/plain": [
       "     num street type         city    zip                            address  \\\n",
       "0   1451  159TH   AV  SAN LEANDRO  94578    1451 159TH AV SAN LEANDRO 94578   \n",
       "1   1459  159TH   AV  SAN LEANDRO  94578    1459 159TH AV SAN LEANDRO 94578   \n",
       "2   1445  159TH   AV  SAN LEANDRO  94578    1445 159TH AV SAN LEANDRO 94578   \n",
       "3  15850   14TH   ST  SAN LEANDRO  94578  15850 E 14TH ST SAN LEANDRO 94578   \n",
       "4   1447  159TH   AV  SAN LEANDRO  94578    1447 159TH AV SAN LEANDRO 94578   \n",
       "\n",
       "             APN  \n",
       "0  080 004007200  \n",
       "1  080 004007200  \n",
       "2  080 004007304  \n",
       "3  080 004007810  \n",
       "4  080 004007304  "
      ]
     },
     "execution_count": 9,
     "metadata": {},
     "output_type": "execute_result"
    }
   ],
   "source": [
    "address_points = pandas.read_csv(\"../data/acgov/ac_gov_address_points.csv\", converters=StringConverter())\n",
    "address_points = address_points[[\"ST_NUM\",\"FEANME\", \"FEATYP\", \"CITY\", \"ZIPCODE\", \"AddressLookup\", \"APN\"]]\n",
    "address_points = address_points.rename(columns=\n",
    "{\n",
    "    \"ST_NUM\":\"num\",\n",
    "    \"FEANME\":\"street\",\n",
    "    \"FEATYP\":\"type\",\n",
    "    \"CITY\":\"city\",\n",
    "    \"ZIPCODE\":\"zip\",\n",
    "    \"AddressLookup\":\"address\"\n",
    "})\n",
    "address_points.head()"
   ]
  },
  {
   "cell_type": "code",
   "execution_count": 10,
   "metadata": {},
   "outputs": [
    {
     "data": {
      "text/plain": [
       "27182"
      ]
     },
     "execution_count": 10,
     "metadata": {},
     "output_type": "execute_result"
    }
   ],
   "source": [
    "#only want east oakland area\n",
    "targetZips = [\"94601\", \"94603\", \"94621\"]\n",
    "east_oakland_addr = address_points[[i in targetZips for i in address_points['zip']]]\n",
    "len(east_oakland_addr)"
   ]
  },
  {
   "cell_type": "code",
   "execution_count": 11,
   "metadata": {},
   "outputs": [
    {
     "name": "stderr",
     "output_type": "stream",
     "text": [
      "C:\\Users\\Ryan\\Anaconda3\\lib\\site-packages\\pandas\\core\\frame.py:4117: SettingWithCopyWarning: \n",
      "A value is trying to be set on a copy of a slice from a DataFrame\n",
      "\n",
      "See the caveats in the documentation: http://pandas.pydata.org/pandas-docs/stable/user_guide/indexing.html#returning-a-view-versus-a-copy\n",
      "  errors=errors,\n"
     ]
    },
    {
     "data": {
      "text/html": [
       "<div>\n",
       "<style scoped>\n",
       "    .dataframe tbody tr th:only-of-type {\n",
       "        vertical-align: middle;\n",
       "    }\n",
       "\n",
       "    .dataframe tbody tr th {\n",
       "        vertical-align: top;\n",
       "    }\n",
       "\n",
       "    .dataframe thead th {\n",
       "        text-align: right;\n",
       "    }\n",
       "</style>\n",
       "<table border=\"1\" class=\"dataframe\">\n",
       "  <thead>\n",
       "    <tr style=\"text-align: right;\">\n",
       "      <th></th>\n",
       "      <th>num</th>\n",
       "      <th>street</th>\n",
       "      <th>type</th>\n",
       "      <th>city</th>\n",
       "      <th>zip</th>\n",
       "      <th>address</th>\n",
       "      <th>APN</th>\n",
       "    </tr>\n",
       "  </thead>\n",
       "  <tbody>\n",
       "    <tr>\n",
       "      <th>0</th>\n",
       "      <td>1025</td>\n",
       "      <td>47TH</td>\n",
       "      <td>AV</td>\n",
       "      <td>OAKLAND</td>\n",
       "      <td>94601</td>\n",
       "      <td>1025 47TH AV OAKLAND 94601</td>\n",
       "      <td>034 226100104</td>\n",
       "    </tr>\n",
       "    <tr>\n",
       "      <th>1</th>\n",
       "      <td>4635</td>\n",
       "      <td>12TH</td>\n",
       "      <td>ST</td>\n",
       "      <td>OAKLAND</td>\n",
       "      <td>94601</td>\n",
       "      <td>4635 E 12TH ST OAKLAND 94601</td>\n",
       "      <td>034 226100103</td>\n",
       "    </tr>\n",
       "    <tr>\n",
       "      <th>2</th>\n",
       "      <td>1046</td>\n",
       "      <td>45TH</td>\n",
       "      <td>AV</td>\n",
       "      <td>OAKLAND</td>\n",
       "      <td>94601</td>\n",
       "      <td>1046 45TH AV OAKLAND 94601</td>\n",
       "      <td>034 226201102</td>\n",
       "    </tr>\n",
       "    <tr>\n",
       "      <th>3</th>\n",
       "      <td>1038</td>\n",
       "      <td>45TH</td>\n",
       "      <td>AV</td>\n",
       "      <td>OAKLAND</td>\n",
       "      <td>94601</td>\n",
       "      <td>1038 45TH AV OAKLAND 94601</td>\n",
       "      <td>034 226201102</td>\n",
       "    </tr>\n",
       "    <tr>\n",
       "      <th>4</th>\n",
       "      <td>1054</td>\n",
       "      <td>45TH</td>\n",
       "      <td>AV</td>\n",
       "      <td>OAKLAND</td>\n",
       "      <td>94601</td>\n",
       "      <td>1054 45TH AV OAKLAND 94601</td>\n",
       "      <td>034 226201200</td>\n",
       "    </tr>\n",
       "  </tbody>\n",
       "</table>\n",
       "</div>"
      ],
      "text/plain": [
       "    num street type     city    zip                       address  \\\n",
       "0  1025   47TH   AV  OAKLAND  94601    1025 47TH AV OAKLAND 94601   \n",
       "1  4635   12TH   ST  OAKLAND  94601  4635 E 12TH ST OAKLAND 94601   \n",
       "2  1046   45TH   AV  OAKLAND  94601    1046 45TH AV OAKLAND 94601   \n",
       "3  1038   45TH   AV  OAKLAND  94601    1038 45TH AV OAKLAND 94601   \n",
       "4  1054   45TH   AV  OAKLAND  94601    1054 45TH AV OAKLAND 94601   \n",
       "\n",
       "             APN  \n",
       "0  034 226100104  \n",
       "1  034 226100103  \n",
       "2  034 226201102  \n",
       "3  034 226201102  \n",
       "4  034 226201200  "
      ]
     },
     "execution_count": 11,
     "metadata": {},
     "output_type": "execute_result"
    }
   ],
   "source": [
    "east_oakland_addr.reset_index(inplace=True)\n",
    "east_oakland_addr.drop('index', axis=1, inplace=True)\n",
    "east_oakland_addr.head()"
   ]
  },
  {
   "cell_type": "code",
   "execution_count": 14,
   "metadata": {},
   "outputs": [
    {
     "name": "stdout",
     "output_type": "stream",
     "text": [
      "removing old backup\n",
      "backing up\n",
      "downloading latest version\n",
      "-1 / unknown\n",
      "\n",
      "downloaded: ../data/acgov/ac_gov_parcels.csv\n"
     ]
    }
   ],
   "source": [
    "# retrieve parcels csv from ac gov website\n",
    "# https://data.acgov.org/datasets/b55c25ae04fc47fc9c188dbbfcd51192_0/\n",
    "url = \"https://opendata.arcgis.com/datasets/b55c25ae04fc47fc9c188dbbfcd51192_0.csv\"\n",
    "path = \"../data/acgov/ac_gov_parcels.csv\"\n",
    "\n",
    "#delete backup if exists\n",
    "try:\n",
    "    os.remove(\"../data/acgov/ac_gov_parcels_(old).csv\")\n",
    "    print(\"removing old backup\")\n",
    "except:\n",
    "    print(\"no existing backup to clear\")\n",
    "    \n",
    "#backup most recent version\n",
    "try:\n",
    "    os.rename(path, \"../data/acgov/ac_gov_parcels_(old).csv\")\n",
    "    print(\"backing up\")\n",
    "except:\n",
    "    print(\"no existing files\")\n",
    "\n",
    "#download most recent version\n",
    "print(\"downloading latest version\")\n",
    "x=wget.download(url, path)\n",
    "print(\"\\n\")\n",
    "print(\"downloaded: \"+x)"
   ]
  },
  {
   "cell_type": "code",
   "execution_count": 17,
   "metadata": {},
   "outputs": [
    {
     "name": "stdout",
     "output_type": "stream",
     "text": [
      "482339\n"
     ]
    },
    {
     "data": {
      "text/html": [
       "<div>\n",
       "<style scoped>\n",
       "    .dataframe tbody tr th:only-of-type {\n",
       "        vertical-align: middle;\n",
       "    }\n",
       "\n",
       "    .dataframe tbody tr th {\n",
       "        vertical-align: top;\n",
       "    }\n",
       "\n",
       "    .dataframe thead th {\n",
       "        text-align: right;\n",
       "    }\n",
       "</style>\n",
       "<table border=\"1\" class=\"dataframe\">\n",
       "  <thead>\n",
       "    <tr style=\"text-align: right;\">\n",
       "      <th></th>\n",
       "      <th>APN</th>\n",
       "      <th>APN_SORT</th>\n",
       "      <th>YearBuilt</th>\n",
       "      <th>SitusStreetNumber</th>\n",
       "      <th>SitusStreetName</th>\n",
       "      <th>SitusUnit</th>\n",
       "      <th>SitusCity</th>\n",
       "      <th>SitusZip</th>\n",
       "      <th>SitusAddress</th>\n",
       "      <th>MailingAddress</th>\n",
       "    </tr>\n",
       "  </thead>\n",
       "  <tbody>\n",
       "    <tr>\n",
       "      <th>482334</th>\n",
       "      <td>99B-4901-6-5</td>\n",
       "      <td>099B490100605</td>\n",
       "      <td>0</td>\n",
       "      <td></td>\n",
       "      <td>VASCO RD</td>\n",
       "      <td></td>\n",
       "      <td>LIVERMORE</td>\n",
       "      <td>94550</td>\n",
       "      <td>VASCO RD LIVERMORE 94550</td>\n",
       "      <td>PO BOX 29246 PHOENIX AZ 85038</td>\n",
       "    </tr>\n",
       "    <tr>\n",
       "      <th>482335</th>\n",
       "      <td>99B-4901-1-7</td>\n",
       "      <td>099B490100107</td>\n",
       "      <td>0</td>\n",
       "      <td>4763</td>\n",
       "      <td>VASCO RD</td>\n",
       "      <td></td>\n",
       "      <td>LIVERMORE</td>\n",
       "      <td>94550</td>\n",
       "      <td>4763 VASCO RD LIVERMORE 94550</td>\n",
       "      <td>2443 FAIR OAKS BLVD 311 SACRAMENTO CA 95825</td>\n",
       "    </tr>\n",
       "    <tr>\n",
       "      <th>482336</th>\n",
       "      <td>99B-4901-2-4</td>\n",
       "      <td>099B490100204</td>\n",
       "      <td>1980</td>\n",
       "      <td>4135</td>\n",
       "      <td>N VASCO RD</td>\n",
       "      <td></td>\n",
       "      <td>LIVERMORE</td>\n",
       "      <td>94551</td>\n",
       "      <td>4135 N VASCO RD LIVERMORE 94551</td>\n",
       "      <td>2443 FAIR OAKS BLVD 311 SACRAMENTO CA 95825</td>\n",
       "    </tr>\n",
       "    <tr>\n",
       "      <th>482337</th>\n",
       "      <td>99B-4901-5</td>\n",
       "      <td>099B490100500</td>\n",
       "      <td>1915</td>\n",
       "      <td>3661</td>\n",
       "      <td>N VASCO RD</td>\n",
       "      <td></td>\n",
       "      <td>LIVERMORE</td>\n",
       "      <td>94551</td>\n",
       "      <td>3661 N VASCO RD LIVERMORE 94551</td>\n",
       "      <td>3661 N VASCO RD LIVERMORE CA 94551</td>\n",
       "    </tr>\n",
       "    <tr>\n",
       "      <th>482338</th>\n",
       "      <td>99B-4901-7-2</td>\n",
       "      <td>099B490100702</td>\n",
       "      <td>0</td>\n",
       "      <td></td>\n",
       "      <td>VASCO RD</td>\n",
       "      <td></td>\n",
       "      <td>LIVERMORE</td>\n",
       "      <td>94550</td>\n",
       "      <td>VASCO RD LIVERMORE 94550</td>\n",
       "      <td>4458 TARCENTO LN DUBLIN CA 94568</td>\n",
       "    </tr>\n",
       "  </tbody>\n",
       "</table>\n",
       "</div>"
      ],
      "text/plain": [
       "                 APN       APN_SORT YearBuilt SitusStreetNumber  \\\n",
       "482334  99B-4901-6-5  099B490100605         0                     \n",
       "482335  99B-4901-1-7  099B490100107         0              4763   \n",
       "482336  99B-4901-2-4  099B490100204      1980              4135   \n",
       "482337    99B-4901-5  099B490100500      1915              3661   \n",
       "482338  99B-4901-7-2  099B490100702         0                     \n",
       "\n",
       "       SitusStreetName SitusUnit  SitusCity SitusZip  \\\n",
       "482334        VASCO RD            LIVERMORE    94550   \n",
       "482335        VASCO RD            LIVERMORE    94550   \n",
       "482336      N VASCO RD            LIVERMORE    94551   \n",
       "482337      N VASCO RD            LIVERMORE    94551   \n",
       "482338        VASCO RD            LIVERMORE    94550   \n",
       "\n",
       "                           SitusAddress  \\\n",
       "482334         VASCO RD LIVERMORE 94550   \n",
       "482335    4763 VASCO RD LIVERMORE 94550   \n",
       "482336  4135 N VASCO RD LIVERMORE 94551   \n",
       "482337  3661 N VASCO RD LIVERMORE 94551   \n",
       "482338         VASCO RD LIVERMORE 94550   \n",
       "\n",
       "                                     MailingAddress  \n",
       "482334                PO BOX 29246 PHOENIX AZ 85038  \n",
       "482335  2443 FAIR OAKS BLVD 311 SACRAMENTO CA 95825  \n",
       "482336  2443 FAIR OAKS BLVD 311 SACRAMENTO CA 95825  \n",
       "482337           3661 N VASCO RD LIVERMORE CA 94551  \n",
       "482338             4458 TARCENTO LN DUBLIN CA 94568  "
      ]
     },
     "execution_count": 17,
     "metadata": {},
     "output_type": "execute_result"
    }
   ],
   "source": [
    "parcels = pandas.read_csv(\"../data/acgov/ac_gov_parcels.csv\", converters=StringConverter())\n",
    "parcels = parcels[['APN','APN_SORT', 'YearBuilt', 'SitusStreetNumber', 'SitusStreetName', 'SitusUnit', 'SitusCity', 'SitusZip', 'SitusAddress','MailingAddress']]\n",
    "print(len(parcels))\n",
    "parcels.tail()"
   ]
  },
  {
   "cell_type": "code",
   "execution_count": 18,
   "metadata": {},
   "outputs": [
    {
     "data": {
      "text/plain": [
       "26250"
      ]
     },
     "execution_count": 18,
     "metadata": {},
     "output_type": "execute_result"
    }
   ],
   "source": [
    "#only want east oakland area\n",
    "targetZips = [\"94601\", \"94603\", \"94621\"]\n",
    "east_oakland_parcels = parcels[[i in targetZips for i in parcels['SitusZip']]]\n",
    "len(east_oakland_parcels)"
   ]
  },
  {
   "cell_type": "code",
   "execution_count": 19,
   "metadata": {},
   "outputs": [
    {
     "data": {
      "text/html": [
       "<div>\n",
       "<style scoped>\n",
       "    .dataframe tbody tr th:only-of-type {\n",
       "        vertical-align: middle;\n",
       "    }\n",
       "\n",
       "    .dataframe tbody tr th {\n",
       "        vertical-align: top;\n",
       "    }\n",
       "\n",
       "    .dataframe thead th {\n",
       "        text-align: right;\n",
       "    }\n",
       "</style>\n",
       "<table border=\"1\" class=\"dataframe\">\n",
       "  <thead>\n",
       "    <tr style=\"text-align: right;\">\n",
       "      <th></th>\n",
       "      <th>APN</th>\n",
       "      <th>APN_SORT</th>\n",
       "      <th>YearBuilt</th>\n",
       "      <th>SitusStreetNumber</th>\n",
       "      <th>SitusStreetName</th>\n",
       "      <th>SitusUnit</th>\n",
       "      <th>SitusCity</th>\n",
       "      <th>SitusZip</th>\n",
       "      <th>SitusAddress</th>\n",
       "      <th>MailingAddress</th>\n",
       "    </tr>\n",
       "  </thead>\n",
       "  <tbody>\n",
       "    <tr>\n",
       "      <th>0</th>\n",
       "      <td>14-1199-34</td>\n",
       "      <td>014 119903400</td>\n",
       "      <td>1983</td>\n",
       "      <td>55TH</td>\n",
       "      <td>ST</td>\n",
       "      <td></td>\n",
       "      <td>OAKLAND</td>\n",
       "      <td>94621</td>\n",
       "      <td>55TH ST OAKLAND 94621</td>\n",
       "      <td>835 55TH ST OAKLAND CA 94608</td>\n",
       "    </tr>\n",
       "    <tr>\n",
       "      <th>1</th>\n",
       "      <td>19-98-5-6</td>\n",
       "      <td>019 009800506</td>\n",
       "      <td>0</td>\n",
       "      <td>2434</td>\n",
       "      <td>E 11TH ST</td>\n",
       "      <td></td>\n",
       "      <td>OAKLAND</td>\n",
       "      <td>94601</td>\n",
       "      <td>2434 E 11TH ST OAKLAND 94601</td>\n",
       "      <td>PO BOX 7509 OAKLAND CA 94601</td>\n",
       "    </tr>\n",
       "    <tr>\n",
       "      <th>2</th>\n",
       "      <td>19-98-6</td>\n",
       "      <td>019 009800600</td>\n",
       "      <td>0</td>\n",
       "      <td>1134</td>\n",
       "      <td>MILLER AVE</td>\n",
       "      <td></td>\n",
       "      <td>OAKLAND</td>\n",
       "      <td>94601</td>\n",
       "      <td>1134 MILLER AVE OAKLAND 94601</td>\n",
       "      <td>PO BOX 7509 OAKLAND CA 94601</td>\n",
       "    </tr>\n",
       "    <tr>\n",
       "      <th>3</th>\n",
       "      <td>19-98-5-5</td>\n",
       "      <td>019 009800505</td>\n",
       "      <td>1900</td>\n",
       "      <td>2424</td>\n",
       "      <td>E 11TH ST</td>\n",
       "      <td></td>\n",
       "      <td>OAKLAND</td>\n",
       "      <td>94601</td>\n",
       "      <td>2424 E 11TH ST OAKLAND 94601</td>\n",
       "      <td>P.O. BOX 3999 BERKELEY CA 94703</td>\n",
       "    </tr>\n",
       "    <tr>\n",
       "      <th>4</th>\n",
       "      <td>19-98-5-4</td>\n",
       "      <td>019 009800504</td>\n",
       "      <td>1900</td>\n",
       "      <td>2430</td>\n",
       "      <td>E 11TH ST</td>\n",
       "      <td></td>\n",
       "      <td>OAKLAND</td>\n",
       "      <td>94601</td>\n",
       "      <td>2430 E 11TH ST OAKLAND 94601</td>\n",
       "      <td>2430 E 11TH ST OAKLAND CA 94601</td>\n",
       "    </tr>\n",
       "  </tbody>\n",
       "</table>\n",
       "</div>"
      ],
      "text/plain": [
       "          APN       APN_SORT YearBuilt SitusStreetNumber SitusStreetName  \\\n",
       "0  14-1199-34  014 119903400      1983              55TH              ST   \n",
       "1   19-98-5-6  019 009800506         0              2434       E 11TH ST   \n",
       "2     19-98-6  019 009800600         0              1134      MILLER AVE   \n",
       "3   19-98-5-5  019 009800505      1900              2424       E 11TH ST   \n",
       "4   19-98-5-4  019 009800504      1900              2430       E 11TH ST   \n",
       "\n",
       "  SitusUnit SitusCity SitusZip                   SitusAddress  \\\n",
       "0             OAKLAND    94621          55TH ST OAKLAND 94621   \n",
       "1             OAKLAND    94601   2434 E 11TH ST OAKLAND 94601   \n",
       "2             OAKLAND    94601  1134 MILLER AVE OAKLAND 94601   \n",
       "3             OAKLAND    94601   2424 E 11TH ST OAKLAND 94601   \n",
       "4             OAKLAND    94601   2430 E 11TH ST OAKLAND 94601   \n",
       "\n",
       "                    MailingAddress  \n",
       "0     835 55TH ST OAKLAND CA 94608  \n",
       "1     PO BOX 7509 OAKLAND CA 94601  \n",
       "2     PO BOX 7509 OAKLAND CA 94601  \n",
       "3  P.O. BOX 3999 BERKELEY CA 94703  \n",
       "4  2430 E 11TH ST OAKLAND CA 94601  "
      ]
     },
     "execution_count": 19,
     "metadata": {},
     "output_type": "execute_result"
    }
   ],
   "source": [
    "east_oakland_parcels.reset_index(inplace=True)\n",
    "east_oakland_parcels.drop('index', axis=1, inplace=True)\n",
    "east_oakland_parcels.head()"
   ]
  },
  {
   "cell_type": "code",
   "execution_count": null,
   "metadata": {},
   "outputs": [],
   "source": [
    "a#############################################################################"
   ]
  },
  {
   "cell_type": "code",
   "execution_count": 20,
   "metadata": {},
   "outputs": [],
   "source": [
    "#takes zipcode as string input, returns name of city\n",
    "def zipToCity(zipCode):\n",
    "    return zipcodes.matching(zipCode)[0][\"city\"]\n",
    "\n",
    "#takes address (as much as exists...hopefully enough) as string input, returns zipcode\n",
    "def retrieveZip(address):\n",
    "    res = gmaps.geocode(address)\n",
    "    zipcode =  res[0]['address_components'][-1]['long_name']\n",
    "    return zipcode"
   ]
  },
  {
   "cell_type": "code",
   "execution_count": 235,
   "metadata": {},
   "outputs": [],
   "source": [
    "#usaddress.tag breaks up the address into components\n",
    "    #some addresses have unusual elements (ex/ 'StreetNamePreDirectional' as in 10500 E 14th St)\n",
    "    #if an address doesn't work, you might need to update this function which is brittle\n",
    "    #a more robust option is the google geocoder to parse and normalize addresses, but $$$\n",
    "#scourgify.norm converts the input into a standard format\n",
    "def parse_and_norm(address, recursive=False):\n",
    "    if recursive:\n",
    "        print(\"Attempting to parse {} with google geocoder\".format(address))\n",
    "    try:\n",
    "        parsed = usaddress.tag(address)[0]\n",
    "\n",
    "        #AddressNumberPrefix\n",
    "        AddressNumber = parsed['AddressNumber']\n",
    "        #AddressNumberSuffix\n",
    "        StreetNamePreDirectional = \" \" + parsed['StreetNamePreDirectional'] if 'StreetNamePreDirectional' in parsed else \"\"\n",
    "        StreetName = parsed[\"StreetName\"] if 'StreetName' in parsed else \"\"\n",
    "        StreetNamePostType = parsed['StreetNamePostType'] if 'StreetNamePostType' in parsed else \"\"\n",
    "        OccupancyType = parsed['OccupancyType'] if 'OccupancyType' in parsed else \"\" #ex/Apt, Suite\n",
    "        OccupancyIdentifier = parsed['OccupancyIdentifier'] if 'OccupancyIdentifier' in parsed else \"\" #ex/ #3\n",
    "        PlaceName = parsed['PlaceName'] if 'Placename' in parsed else \"\"\n",
    "        ZipCode = parsed['ZipCode'] if 'ZipCode' in parsed else \"\"\n",
    "\n",
    "        #failure if missing AddressNumber, StreetName, or PlaceName&&ZipCode\n",
    "        if (AddressNumber==\"\") or (StreetName==\"\") or (PlaceName==\"\" and ZipCode==\"\"):\n",
    "            raise Exception(\"failed to parse and normalize address\")\n",
    "\n",
    "        #retrieve missing zip with google geocoder (this should be rarely needed)\n",
    "        if len(ZipCode) < 5:\n",
    "            print(\"Invalid Zip Code ({}) from {}\".format(ZipCode,address))\n",
    "            ZipCode = retrieveZip(address)\n",
    "            if ZipCode == -1: #error\n",
    "                return {}\n",
    "\n",
    "        #retrieve missing city name with zip\n",
    "        if len(PlaceName) < 2 and ZipCode!=\"\":\n",
    "            PlaceName = zipToCity(ZipCode)\n",
    "            \n",
    "        #known error with norm; doesn't standardize BLVD to BL\n",
    "        if StreetNamePostType.lower() == \"blvd\":\n",
    "            StreetNamePostType = \"BL\"\n",
    "\n",
    "        input = {\n",
    "            'address_line_1': AddressNumber + StreetNamePreDirectional + \" \" + StreetName + \" \" + StreetNamePostType,\n",
    "            'address_line_2': \"\",\n",
    "            'city': PlaceName,\n",
    "            'state': 'CA', #hardcoded\n",
    "            'postal_code': ZipCode\n",
    "        }\n",
    "\n",
    "        normalized = norm(input)\n",
    "        if (recursive):\n",
    "            print(\"     ^ success\")\n",
    "        return normalized\n",
    "    except:\n",
    "        #if failed, try to use google geocoder api to clean address and recover missing fields\n",
    "        if recursive==True:\n",
    "            print(\"failed to parse and normalize address -- google geocoder failed too\")\n",
    "            return {}\n",
    "        try:\n",
    "            google_address = gmaps.geocode(address)[0]['formatted_address']\n",
    "            return parse_and_norm(google_address, True)\n",
    "        except:\n",
    "            print(\"failed to parse and normalize address -- google geocoder failed too\")\n",
    "            return {}"
   ]
  },
  {
   "cell_type": "code",
   "execution_count": 118,
   "metadata": {},
   "outputs": [],
   "source": []
  },
  {
   "cell_type": "code",
   "execution_count": 119,
   "metadata": {},
   "outputs": [],
   "source": [
    "#Parse and Normalize address column to prepare for lookup from scraped data\n",
    "#input table and name of address column\n",
    "#return list (index, address) of rows which could not be standardized\n",
    "def standardize_address(tbl, col):\n",
    "    errors = []\n",
    "    for i in tqdm(list(tbl.index)):\n",
    "        try:\n",
    "            if (i%1000==0): print(i)\n",
    "            normed = parse_and_norm(tbl.loc[i,col])\n",
    "            tbl.loc[i,\"line_1\"]=normed['address_line_1']\n",
    "            tbl.loc[i,'line_2']=normed['address_line_2']\n",
    "            tbl.loc[i,'city']=normed['city']\n",
    "            tbl.loc[i,'state']=normed['state']\n",
    "            tbl.loc[i,'postal']=normed['postal_code']\n",
    "        except Exception as e:\n",
    "            #print(i)\n",
    "            #print(repr(e))\n",
    "            errors.append(i)\n",
    "    print(\"Errors: \" + str(len(errors)))\n",
    "    failingAddresses = [(i,tbl.loc[i,col]) for i in errors]\n",
    "    return failingAddresses"
   ]
  },
  {
   "cell_type": "code",
   "execution_count": 241,
   "metadata": {},
   "outputs": [
    {
     "data": {
      "application/vnd.jupyter.widget-view+json": {
       "model_id": "5ce23841871c4fcc90d31fd4465b4111",
       "version_major": 2,
       "version_minor": 0
      },
      "text/html": [
       "<p>Failed to display Jupyter Widget of type <code>HBox</code>.</p>\n",
       "<p>\n",
       "  If you're reading this message in the Jupyter Notebook or JupyterLab Notebook, it may mean\n",
       "  that the widgets JavaScript is still loading. If this message persists, it\n",
       "  likely means that the widgets JavaScript library is either not installed or\n",
       "  not enabled. See the <a href=\"https://ipywidgets.readthedocs.io/en/stable/user_install.html\">Jupyter\n",
       "  Widgets Documentation</a> for setup instructions.\n",
       "</p>\n",
       "<p>\n",
       "  If you're reading this message in another frontend (for example, a static\n",
       "  rendering on GitHub or <a href=\"https://nbviewer.jupyter.org/\">NBViewer</a>),\n",
       "  it may mean that your frontend doesn't currently support widgets.\n",
       "</p>\n"
      ],
      "text/plain": [
       "HBox(children=(FloatProgress(value=0.0, max=27182.0), HTML(value='')))"
      ]
     },
     "metadata": {},
     "output_type": "display_data"
    },
    {
     "name": "stdout",
     "output_type": "stream",
     "text": [
      "0\n"
     ]
    },
    {
     "name": "stderr",
     "output_type": "stream",
     "text": [
      "C:\\Users\\Ryan\\Anaconda3\\lib\\site-packages\\pandas\\core\\indexing.py:494: SettingWithCopyWarning: \n",
      "A value is trying to be set on a copy of a slice from a DataFrame.\n",
      "Try using .loc[row_indexer,col_indexer] = value instead\n",
      "\n",
      "See the caveats in the documentation: http://pandas.pydata.org/pandas-docs/stable/user_guide/indexing.html#returning-a-view-versus-a-copy\n",
      "  self.obj[item] = s\n"
     ]
    },
    {
     "name": "stdout",
     "output_type": "stream",
     "text": [
      "1000\n",
      "2000\n",
      "3000\n",
      "4000\n",
      "5000\n",
      "6000\n",
      "7000\n",
      "8000\n",
      "9000\n",
      "10000\n",
      "11000\n",
      "12000\n",
      "13000\n",
      "14000\n",
      "15000\n",
      "16000\n",
      "17000\n",
      "18000\n",
      "19000\n",
      "20000\n",
      "21000\n",
      "22000\n",
      "23000\n",
      "24000\n",
      "25000\n",
      "26000\n",
      "27000\n",
      "\n",
      "Errors: 0\n"
     ]
    }
   ],
   "source": [
    "e=standardize_address(east_oakland_addr, \"address\")"
   ]
  },
  {
   "cell_type": "code",
   "execution_count": 242,
   "metadata": {},
   "outputs": [
    {
     "data": {
      "text/html": [
       "<div>\n",
       "<style scoped>\n",
       "    .dataframe tbody tr th:only-of-type {\n",
       "        vertical-align: middle;\n",
       "    }\n",
       "\n",
       "    .dataframe tbody tr th {\n",
       "        vertical-align: top;\n",
       "    }\n",
       "\n",
       "    .dataframe thead th {\n",
       "        text-align: right;\n",
       "    }\n",
       "</style>\n",
       "<table border=\"1\" class=\"dataframe\">\n",
       "  <thead>\n",
       "    <tr style=\"text-align: right;\">\n",
       "      <th></th>\n",
       "      <th>APN</th>\n",
       "      <th>APN_SORT</th>\n",
       "      <th>YearBuilt</th>\n",
       "      <th>SitusStreetNumber</th>\n",
       "      <th>SitusStreetName</th>\n",
       "      <th>SitusUnit</th>\n",
       "      <th>SitusCity</th>\n",
       "      <th>SitusZip</th>\n",
       "      <th>SitusAddress</th>\n",
       "      <th>MailingAddress</th>\n",
       "      <th>line_1</th>\n",
       "      <th>line_2</th>\n",
       "      <th>city</th>\n",
       "      <th>state</th>\n",
       "      <th>postal</th>\n",
       "    </tr>\n",
       "  </thead>\n",
       "  <tbody>\n",
       "  </tbody>\n",
       "</table>\n",
       "</div>"
      ],
      "text/plain": [
       "Empty DataFrame\n",
       "Columns: [APN, APN_SORT, YearBuilt, SitusStreetNumber, SitusStreetName, SitusUnit, SitusCity, SitusZip, SitusAddress, MailingAddress, line_1, line_2, city, state, postal]\n",
       "Index: []"
      ]
     },
     "execution_count": 242,
     "metadata": {},
     "output_type": "execute_result"
    }
   ],
   "source": [
    "#This dataset has many entry errors with missing street numbers; either blank or street name inputted instead of number\n",
    "bad_data = east_oakland_parcels[[not i.isnumeric() for i in east_oakland_parcels['SitusStreetNumber']]]\n",
    "bad_data.head()"
   ]
  },
  {
   "cell_type": "code",
   "execution_count": 243,
   "metadata": {},
   "outputs": [
    {
     "data": {
      "text/plain": [
       "24442"
      ]
     },
     "execution_count": 243,
     "metadata": {},
     "output_type": "execute_result"
    }
   ],
   "source": [
    "len(east_oakland_parcels)"
   ]
  },
  {
   "cell_type": "code",
   "execution_count": 244,
   "metadata": {},
   "outputs": [
    {
     "data": {
      "text/plain": [
       "24442"
      ]
     },
     "execution_count": 244,
     "metadata": {},
     "output_type": "execute_result"
    }
   ],
   "source": [
    "#remove bad entries from east_oakland_parcels\n",
    "east_oakland_parcels = east_oakland_parcels[[ i.isnumeric() for i in east_oakland_parcels['SitusStreetNumber']]]\n",
    "len(east_oakland_parcels)"
   ]
  },
  {
   "cell_type": "code",
   "execution_count": 245,
   "metadata": {},
   "outputs": [
    {
     "data": {
      "application/vnd.jupyter.widget-view+json": {
       "model_id": "189bbe46b2f84cac9a8c7b0d5ae8582e",
       "version_major": 2,
       "version_minor": 0
      },
      "text/html": [
       "<p>Failed to display Jupyter Widget of type <code>HBox</code>.</p>\n",
       "<p>\n",
       "  If you're reading this message in the Jupyter Notebook or JupyterLab Notebook, it may mean\n",
       "  that the widgets JavaScript is still loading. If this message persists, it\n",
       "  likely means that the widgets JavaScript library is either not installed or\n",
       "  not enabled. See the <a href=\"https://ipywidgets.readthedocs.io/en/stable/user_install.html\">Jupyter\n",
       "  Widgets Documentation</a> for setup instructions.\n",
       "</p>\n",
       "<p>\n",
       "  If you're reading this message in another frontend (for example, a static\n",
       "  rendering on GitHub or <a href=\"https://nbviewer.jupyter.org/\">NBViewer</a>),\n",
       "  it may mean that your frontend doesn't currently support widgets.\n",
       "</p>\n"
      ],
      "text/plain": [
       "HBox(children=(FloatProgress(value=0.0, max=24442.0), HTML(value='')))"
      ]
     },
     "metadata": {},
     "output_type": "display_data"
    },
    {
     "name": "stdout",
     "output_type": "stream",
     "text": [
      "1000\n",
      "2000\n",
      "3000\n",
      "4000\n",
      "5000\n",
      "6000\n",
      "7000\n",
      "8000\n",
      "9000\n",
      "10000\n",
      "11000\n",
      "12000\n",
      "13000\n",
      "14000\n",
      "15000\n",
      "16000\n",
      "17000\n",
      "18000\n",
      "19000\n",
      "20000\n",
      "21000\n",
      "22000\n",
      "23000\n",
      "24000\n",
      "\n",
      "Errors: 0\n"
     ]
    }
   ],
   "source": [
    "e = standardize_address(east_oakland_parcels, \"SitusAddress\")"
   ]
  },
  {
   "cell_type": "code",
   "execution_count": 246,
   "metadata": {},
   "outputs": [],
   "source": [
    "east_oakland_addr.to_csv(\"../data/processed_acgov/eo_addr.csv\", index=False)\n",
    "east_oakland_parcels.to_csv(\"../data/processed_acgov/eo_parcels.csv\", index=False)"
   ]
  },
  {
   "cell_type": "code",
   "execution_count": 247,
   "metadata": {},
   "outputs": [],
   "source": [
    "###################################################################################\n",
    "# Use above data and functions to retrieve APNs from address strings\n",
    "###################################################################################"
   ]
  },
  {
   "cell_type": "code",
   "execution_count": 248,
   "metadata": {},
   "outputs": [],
   "source": [
    "eo_addr = pandas.read_csv(\"../data/processed_acgov/eo_addr.csv\", converters=StringConverter())\n",
    "eo_parcels = pandas.read_csv(\"../data/processed_acgov/eo_parcels.csv\", converters=StringConverter())"
   ]
  },
  {
   "cell_type": "code",
   "execution_count": 252,
   "metadata": {},
   "outputs": [],
   "source": [
    "a=\"1467 Fruitvale AVE, APT 141, OAKLAND CA\""
   ]
  },
  {
   "cell_type": "code",
   "execution_count": 253,
   "metadata": {},
   "outputs": [
    {
     "name": "stdout",
     "output_type": "stream",
     "text": [
      "Attempting to parse 1467 Fruitvale Ave #141, Oakland, CA 94601, USA with google geocoder\n",
      "     ^ success\n"
     ]
    },
    {
     "data": {
      "text/plain": [
       "{'address_line_1': '1467 FRUITVALE AVE',\n",
       " 'address_line_2': None,\n",
       " 'city': 'OAKLAND',\n",
       " 'state': 'CA',\n",
       " 'postal_code': '94601'}"
      ]
     },
     "execution_count": 253,
     "metadata": {},
     "output_type": "execute_result"
    }
   ],
   "source": [
    "parse_and_norm(a)"
   ]
  },
  {
   "cell_type": "code",
   "execution_count": 254,
   "metadata": {},
   "outputs": [
    {
     "name": "stdout",
     "output_type": "stream",
     "text": [
      "Attempting to parse 1467 Fruitvale Ave #141, Oakland, CA 94601, USA with google geocoder\n",
      "     ^ success\n"
     ]
    },
    {
     "data": {
      "text/plain": [
       "[]"
      ]
     },
     "execution_count": 254,
     "metadata": {},
     "output_type": "execute_result"
    }
   ],
   "source": [
    "getAPN(a)"
   ]
  },
  {
   "cell_type": "code",
   "execution_count": 255,
   "metadata": {},
   "outputs": [
    {
     "data": {
      "text/html": [
       "<div>\n",
       "<style scoped>\n",
       "    .dataframe tbody tr th:only-of-type {\n",
       "        vertical-align: middle;\n",
       "    }\n",
       "\n",
       "    .dataframe tbody tr th {\n",
       "        vertical-align: top;\n",
       "    }\n",
       "\n",
       "    .dataframe thead th {\n",
       "        text-align: right;\n",
       "    }\n",
       "</style>\n",
       "<table border=\"1\" class=\"dataframe\">\n",
       "  <thead>\n",
       "    <tr style=\"text-align: right;\">\n",
       "      <th></th>\n",
       "      <th>num</th>\n",
       "      <th>street</th>\n",
       "      <th>type</th>\n",
       "      <th>city</th>\n",
       "      <th>zip</th>\n",
       "      <th>address</th>\n",
       "      <th>APN</th>\n",
       "      <th>line_1</th>\n",
       "      <th>line_2</th>\n",
       "      <th>state</th>\n",
       "      <th>postal</th>\n",
       "    </tr>\n",
       "  </thead>\n",
       "  <tbody>\n",
       "    <tr>\n",
       "      <th>3008</th>\n",
       "      <td>1467</td>\n",
       "      <td>82ND</td>\n",
       "      <td>AV</td>\n",
       "      <td>OAKLAND</td>\n",
       "      <td>94621</td>\n",
       "      <td>1467 82ND AV B OAKLAND 94621</td>\n",
       "      <td>040 336400900</td>\n",
       "      <td>1467 82ND AVE</td>\n",
       "      <td>NaN</td>\n",
       "      <td>CA</td>\n",
       "      <td>94621</td>\n",
       "    </tr>\n",
       "    <tr>\n",
       "      <th>3009</th>\n",
       "      <td>1467</td>\n",
       "      <td>82ND</td>\n",
       "      <td>AV</td>\n",
       "      <td>OAKLAND</td>\n",
       "      <td>94621</td>\n",
       "      <td>1467 82ND AV OAKLAND 94621</td>\n",
       "      <td>040 336400900</td>\n",
       "      <td>1467 82ND AVE</td>\n",
       "      <td>NaN</td>\n",
       "      <td>CA</td>\n",
       "      <td>94621</td>\n",
       "    </tr>\n",
       "    <tr>\n",
       "      <th>5034</th>\n",
       "      <td>1467</td>\n",
       "      <td>70TH</td>\n",
       "      <td>AV</td>\n",
       "      <td>OAKLAND</td>\n",
       "      <td>94621</td>\n",
       "      <td>1467 70TH AV OAKLAND 94621</td>\n",
       "      <td>039 325000400</td>\n",
       "      <td>1467 70TH AVE</td>\n",
       "      <td>NaN</td>\n",
       "      <td>CA</td>\n",
       "      <td>94621</td>\n",
       "    </tr>\n",
       "    <tr>\n",
       "      <th>7098</th>\n",
       "      <td>1467</td>\n",
       "      <td>83RD</td>\n",
       "      <td>AV</td>\n",
       "      <td>OAKLAND</td>\n",
       "      <td>94621</td>\n",
       "      <td>1467 83RD AV OAKLAND 94621</td>\n",
       "      <td>043 455000200</td>\n",
       "      <td>1467 83RD AVE</td>\n",
       "      <td>NaN</td>\n",
       "      <td>CA</td>\n",
       "      <td>94621</td>\n",
       "    </tr>\n",
       "    <tr>\n",
       "      <th>7185</th>\n",
       "      <td>1467</td>\n",
       "      <td>73RD</td>\n",
       "      <td>AV</td>\n",
       "      <td>OAKLAND</td>\n",
       "      <td>94621</td>\n",
       "      <td>1467 73RD AV OAKLAND 94621</td>\n",
       "      <td>039 331101400</td>\n",
       "      <td>1467 73RD AVE</td>\n",
       "      <td>NaN</td>\n",
       "      <td>CA</td>\n",
       "      <td>94621</td>\n",
       "    </tr>\n",
       "    <tr>\n",
       "      <th>8594</th>\n",
       "      <td>1467</td>\n",
       "      <td>74TH</td>\n",
       "      <td>AV</td>\n",
       "      <td>OAKLAND</td>\n",
       "      <td>94621</td>\n",
       "      <td>1467 74TH AV OAKLAND 94621</td>\n",
       "      <td>040 331702200</td>\n",
       "      <td>1467 74TH AVE</td>\n",
       "      <td>NaN</td>\n",
       "      <td>CA</td>\n",
       "      <td>94621</td>\n",
       "    </tr>\n",
       "    <tr>\n",
       "      <th>11287</th>\n",
       "      <td>1467</td>\n",
       "      <td>84TH</td>\n",
       "      <td>AV</td>\n",
       "      <td>OAKLAND</td>\n",
       "      <td>94621</td>\n",
       "      <td>1467 84TH AV OAKLAND 94621</td>\n",
       "      <td>043 455100200</td>\n",
       "      <td>1467 84TH AVE</td>\n",
       "      <td>NaN</td>\n",
       "      <td>CA</td>\n",
       "      <td>94621</td>\n",
       "    </tr>\n",
       "    <tr>\n",
       "      <th>25997</th>\n",
       "      <td>1467</td>\n",
       "      <td>79TH</td>\n",
       "      <td>AV</td>\n",
       "      <td>OAKLAND</td>\n",
       "      <td>94621</td>\n",
       "      <td>1467 79TH AV OAKLAND 94621</td>\n",
       "      <td>040 336100800</td>\n",
       "      <td>1467 79TH AVE</td>\n",
       "      <td>NaN</td>\n",
       "      <td>CA</td>\n",
       "      <td>94621</td>\n",
       "    </tr>\n",
       "  </tbody>\n",
       "</table>\n",
       "</div>"
      ],
      "text/plain": [
       "        num street type     city    zip                       address  \\\n",
       "3008   1467   82ND   AV  OAKLAND  94621  1467 82ND AV B OAKLAND 94621   \n",
       "3009   1467   82ND   AV  OAKLAND  94621    1467 82ND AV OAKLAND 94621   \n",
       "5034   1467   70TH   AV  OAKLAND  94621    1467 70TH AV OAKLAND 94621   \n",
       "7098   1467   83RD   AV  OAKLAND  94621    1467 83RD AV OAKLAND 94621   \n",
       "7185   1467   73RD   AV  OAKLAND  94621    1467 73RD AV OAKLAND 94621   \n",
       "8594   1467   74TH   AV  OAKLAND  94621    1467 74TH AV OAKLAND 94621   \n",
       "11287  1467   84TH   AV  OAKLAND  94621    1467 84TH AV OAKLAND 94621   \n",
       "25997  1467   79TH   AV  OAKLAND  94621    1467 79TH AV OAKLAND 94621   \n",
       "\n",
       "                 APN         line_1  line_2 state postal  \n",
       "3008   040 336400900  1467 82ND AVE     NaN    CA  94621  \n",
       "3009   040 336400900  1467 82ND AVE     NaN    CA  94621  \n",
       "5034   039 325000400  1467 70TH AVE     NaN    CA  94621  \n",
       "7098   043 455000200  1467 83RD AVE     NaN    CA  94621  \n",
       "7185   039 331101400  1467 73RD AVE     NaN    CA  94621  \n",
       "8594   040 331702200  1467 74TH AVE     NaN    CA  94621  \n",
       "11287  043 455100200  1467 84TH AVE     NaN    CA  94621  \n",
       "25997  040 336100800  1467 79TH AVE     NaN    CA  94621  "
      ]
     },
     "execution_count": 255,
     "metadata": {},
     "output_type": "execute_result"
    }
   ],
   "source": [
    "east_oakland_addr[east_oakland_addr['num']==\"1467\"]"
   ]
  },
  {
   "cell_type": "code",
   "execution_count": 256,
   "metadata": {},
   "outputs": [
    {
     "data": {
      "text/html": [
       "<div>\n",
       "<style scoped>\n",
       "    .dataframe tbody tr th:only-of-type {\n",
       "        vertical-align: middle;\n",
       "    }\n",
       "\n",
       "    .dataframe tbody tr th {\n",
       "        vertical-align: top;\n",
       "    }\n",
       "\n",
       "    .dataframe thead th {\n",
       "        text-align: right;\n",
       "    }\n",
       "</style>\n",
       "<table border=\"1\" class=\"dataframe\">\n",
       "  <thead>\n",
       "    <tr style=\"text-align: right;\">\n",
       "      <th></th>\n",
       "      <th>APN</th>\n",
       "      <th>APN_SORT</th>\n",
       "      <th>YearBuilt</th>\n",
       "      <th>SitusStreetNumber</th>\n",
       "      <th>SitusStreetName</th>\n",
       "      <th>SitusUnit</th>\n",
       "      <th>SitusCity</th>\n",
       "      <th>SitusZip</th>\n",
       "      <th>SitusAddress</th>\n",
       "      <th>MailingAddress</th>\n",
       "      <th>line_1</th>\n",
       "      <th>line_2</th>\n",
       "      <th>city</th>\n",
       "      <th>state</th>\n",
       "      <th>postal</th>\n",
       "    </tr>\n",
       "  </thead>\n",
       "  <tbody>\n",
       "    <tr>\n",
       "      <th>10582</th>\n",
       "      <td>39-3311-14</td>\n",
       "      <td>039 331101400</td>\n",
       "      <td>1924</td>\n",
       "      <td>1467</td>\n",
       "      <td>73RD AVE</td>\n",
       "      <td></td>\n",
       "      <td>OAKLAND</td>\n",
       "      <td>94621</td>\n",
       "      <td>1467 73RD AVE OAKLAND 94621</td>\n",
       "      <td>1467 73RD AVE OAKLAND CA 94621</td>\n",
       "      <td>1467 73RD AVE</td>\n",
       "      <td>NaN</td>\n",
       "      <td>OAKLAND</td>\n",
       "      <td>CA</td>\n",
       "      <td>94621</td>\n",
       "    </tr>\n",
       "    <tr>\n",
       "      <th>11121</th>\n",
       "      <td>39-3250-4</td>\n",
       "      <td>039 325000400</td>\n",
       "      <td>1929</td>\n",
       "      <td>1467</td>\n",
       "      <td>70TH AVE</td>\n",
       "      <td></td>\n",
       "      <td>OAKLAND</td>\n",
       "      <td>94621</td>\n",
       "      <td>1467 70TH AVE OAKLAND 94621</td>\n",
       "      <td>1467 70TH AVE OAKLAND CA 94621</td>\n",
       "      <td>1467 70TH AVE</td>\n",
       "      <td>NaN</td>\n",
       "      <td>OAKLAND</td>\n",
       "      <td>CA</td>\n",
       "      <td>94621</td>\n",
       "    </tr>\n",
       "    <tr>\n",
       "      <th>11717</th>\n",
       "      <td>40-3364-9</td>\n",
       "      <td>040 336400900</td>\n",
       "      <td>1959</td>\n",
       "      <td>1467</td>\n",
       "      <td>82ND AVE</td>\n",
       "      <td></td>\n",
       "      <td>OAKLAND</td>\n",
       "      <td>94621</td>\n",
       "      <td>1467 82ND AVE OAKLAND 94621</td>\n",
       "      <td>4011 ARDLEY AVE 1 OAKLAND CA 94602</td>\n",
       "      <td>1467 82ND AVE</td>\n",
       "      <td>NaN</td>\n",
       "      <td>OAKLAND</td>\n",
       "      <td>CA</td>\n",
       "      <td>94621</td>\n",
       "    </tr>\n",
       "    <tr>\n",
       "      <th>11761</th>\n",
       "      <td>40-3361-8</td>\n",
       "      <td>040 336100800</td>\n",
       "      <td>1919</td>\n",
       "      <td>1467</td>\n",
       "      <td>79TH AVE</td>\n",
       "      <td></td>\n",
       "      <td>OAKLAND</td>\n",
       "      <td>94621</td>\n",
       "      <td>1467 79TH AVE OAKLAND 94621</td>\n",
       "      <td>2139 LONGLEAF CIR SAN RAMON CA 94582</td>\n",
       "      <td>1467 79TH AVE</td>\n",
       "      <td>NaN</td>\n",
       "      <td>OAKLAND</td>\n",
       "      <td>CA</td>\n",
       "      <td>94621</td>\n",
       "    </tr>\n",
       "    <tr>\n",
       "      <th>12356</th>\n",
       "      <td>40-3317-22</td>\n",
       "      <td>040 331702200</td>\n",
       "      <td>1924</td>\n",
       "      <td>1467</td>\n",
       "      <td>74TH AVE</td>\n",
       "      <td></td>\n",
       "      <td>OAKLAND</td>\n",
       "      <td>94621</td>\n",
       "      <td>1467 74TH AVE OAKLAND 94621</td>\n",
       "      <td>4849 E 12TH ST OAKLAND CA 94601</td>\n",
       "      <td>1467 74TH AVE</td>\n",
       "      <td>NaN</td>\n",
       "      <td>OAKLAND</td>\n",
       "      <td>CA</td>\n",
       "      <td>94621</td>\n",
       "    </tr>\n",
       "    <tr>\n",
       "      <th>16636</th>\n",
       "      <td>43-4550-2</td>\n",
       "      <td>043 455000200</td>\n",
       "      <td>1943</td>\n",
       "      <td>1467</td>\n",
       "      <td>83RD AVE</td>\n",
       "      <td></td>\n",
       "      <td>OAKLAND</td>\n",
       "      <td>94621</td>\n",
       "      <td>1467 83RD AVE OAKLAND 94621</td>\n",
       "      <td>1467 83RD AVE OAKLAND CA 94621</td>\n",
       "      <td>1467 83RD AVE</td>\n",
       "      <td>NaN</td>\n",
       "      <td>OAKLAND</td>\n",
       "      <td>CA</td>\n",
       "      <td>94621</td>\n",
       "    </tr>\n",
       "    <tr>\n",
       "      <th>23257</th>\n",
       "      <td>47-5596-68</td>\n",
       "      <td>047 559607600</td>\n",
       "      <td>2002</td>\n",
       "      <td>1467</td>\n",
       "      <td>TUCKER ST</td>\n",
       "      <td></td>\n",
       "      <td>OAKLAND</td>\n",
       "      <td>94603</td>\n",
       "      <td>1467 TUCKER ST OAKLAND 94603</td>\n",
       "      <td>1467 TUCKER ST OAKLAND CA 94603</td>\n",
       "      <td>1467 TUCKER ST</td>\n",
       "      <td>NaN</td>\n",
       "      <td>OAKLAND</td>\n",
       "      <td>CA</td>\n",
       "      <td>94603</td>\n",
       "    </tr>\n",
       "  </tbody>\n",
       "</table>\n",
       "</div>"
      ],
      "text/plain": [
       "              APN       APN_SORT YearBuilt SitusStreetNumber SitusStreetName  \\\n",
       "10582  39-3311-14  039 331101400      1924              1467        73RD AVE   \n",
       "11121   39-3250-4  039 325000400      1929              1467        70TH AVE   \n",
       "11717   40-3364-9  040 336400900      1959              1467        82ND AVE   \n",
       "11761   40-3361-8  040 336100800      1919              1467        79TH AVE   \n",
       "12356  40-3317-22  040 331702200      1924              1467        74TH AVE   \n",
       "16636   43-4550-2  043 455000200      1943              1467        83RD AVE   \n",
       "23257  47-5596-68  047 559607600      2002              1467       TUCKER ST   \n",
       "\n",
       "      SitusUnit SitusCity SitusZip                  SitusAddress  \\\n",
       "10582             OAKLAND    94621   1467 73RD AVE OAKLAND 94621   \n",
       "11121             OAKLAND    94621   1467 70TH AVE OAKLAND 94621   \n",
       "11717             OAKLAND    94621   1467 82ND AVE OAKLAND 94621   \n",
       "11761             OAKLAND    94621   1467 79TH AVE OAKLAND 94621   \n",
       "12356             OAKLAND    94621   1467 74TH AVE OAKLAND 94621   \n",
       "16636             OAKLAND    94621   1467 83RD AVE OAKLAND 94621   \n",
       "23257             OAKLAND    94603  1467 TUCKER ST OAKLAND 94603   \n",
       "\n",
       "                             MailingAddress          line_1  line_2     city  \\\n",
       "10582        1467 73RD AVE OAKLAND CA 94621   1467 73RD AVE     NaN  OAKLAND   \n",
       "11121        1467 70TH AVE OAKLAND CA 94621   1467 70TH AVE     NaN  OAKLAND   \n",
       "11717    4011 ARDLEY AVE 1 OAKLAND CA 94602   1467 82ND AVE     NaN  OAKLAND   \n",
       "11761  2139 LONGLEAF CIR SAN RAMON CA 94582   1467 79TH AVE     NaN  OAKLAND   \n",
       "12356       4849 E 12TH ST OAKLAND CA 94601   1467 74TH AVE     NaN  OAKLAND   \n",
       "16636        1467 83RD AVE OAKLAND CA 94621   1467 83RD AVE     NaN  OAKLAND   \n",
       "23257       1467 TUCKER ST OAKLAND CA 94603  1467 TUCKER ST     NaN  OAKLAND   \n",
       "\n",
       "      state postal  \n",
       "10582    CA  94621  \n",
       "11121    CA  94621  \n",
       "11717    CA  94621  \n",
       "11761    CA  94621  \n",
       "12356    CA  94621  \n",
       "16636    CA  94621  \n",
       "23257    CA  94603  "
      ]
     },
     "execution_count": 256,
     "metadata": {},
     "output_type": "execute_result"
    }
   ],
   "source": [
    "east_oakland_parcels[east_oakland_parcels['SitusStreetNumber']==\"1467\"]"
   ]
  },
  {
   "cell_type": "code",
   "execution_count": 226,
   "metadata": {},
   "outputs": [],
   "source": [
    "normalized = parse_and_norm(\"10950 INTERNATIONAL BL, Oakland CA 94603\")"
   ]
  },
  {
   "cell_type": "code",
   "execution_count": 228,
   "metadata": {},
   "outputs": [],
   "source": [
    "line_1 = normalized['address_line_1']\n",
    "postal = normalized['postal_code']\n",
    "q1 = eo_addr.query(\"line_1==@line_1 and postal==@postal\").drop_duplicates(\"APN\")[\"APN\"]\n",
    "q2 = eo_parcels.query(\"line_1==@line_1 and postal==@postal\").drop_duplicates(\"APN_SORT\")[\"APN_SORT\"]"
   ]
  },
  {
   "cell_type": "code",
   "execution_count": 229,
   "metadata": {},
   "outputs": [
    {
     "data": {
      "text/plain": [
       "'10950 INTERNATIONAL BL'"
      ]
     },
     "execution_count": 229,
     "metadata": {},
     "output_type": "execute_result"
    }
   ],
   "source": [
    "line_1"
   ]
  },
  {
   "cell_type": "code",
   "execution_count": 165,
   "metadata": {},
   "outputs": [],
   "source": [
    "#Retrieve APN From Address string\n",
    "#returns series; address may have multiple parcels\n",
    "def getAPN(address):\n",
    "    normalized = parse_and_norm(address)\n",
    "    line_1 = normalized['address_line_1']\n",
    "    postal = normalized['postal_code']\n",
    "    q1 = eo_addr.query(\"line_1==@line_1 and postal==@postal\").drop_duplicates(\"APN\")[\"APN\"]\n",
    "    q2 = eo_parcels.query(\"line_1==@line_1 and postal==@postal\").drop_duplicates(\"APN_SORT\")[\"APN_SORT\"]\n",
    "    #convert list to set and back to only return unique values (set keys must be unique)\n",
    "    return list(set(q1.tolist() + q2.tolist()))\n",
    "        "
   ]
  },
  {
   "cell_type": "code",
   "execution_count": null,
   "metadata": {},
   "outputs": [],
   "source": [
    "getAPN(\"1745 CHURCH ST, Oakland CA 94621\")"
   ]
  }
 ],
 "metadata": {
  "kernelspec": {
   "display_name": "Python 3",
   "language": "python",
   "name": "python3"
  },
  "language_info": {
   "codemirror_mode": {
    "name": "ipython",
    "version": 3
   },
   "file_extension": ".py",
   "mimetype": "text/x-python",
   "name": "python",
   "nbconvert_exporter": "python",
   "pygments_lexer": "ipython3",
   "version": "3.6.4"
  }
 },
 "nbformat": 4,
 "nbformat_minor": 4
}
