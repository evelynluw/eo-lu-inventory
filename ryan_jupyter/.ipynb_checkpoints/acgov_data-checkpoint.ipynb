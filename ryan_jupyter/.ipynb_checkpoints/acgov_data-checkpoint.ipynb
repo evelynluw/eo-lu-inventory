{
 "cells": [
  {
   "cell_type": "code",
   "execution_count": 1,
   "metadata": {},
   "outputs": [],
   "source": [
    "#This notebook cleans and formats data from data.acgov.org and exports the csv"
   ]
  },
  {
   "cell_type": "code",
   "execution_count": 2,
   "metadata": {},
   "outputs": [],
   "source": [
    "#This file includes the getAPN function which takes a string address as input and searches the acgov data for a matching parcel number."
   ]
  },
  {
   "cell_type": "code",
   "execution_count": 3,
   "metadata": {},
   "outputs": [],
   "source": [
    "import googlemaps\n",
    "import pandas\n",
    "import usaddress\n",
    "from scourgify import normalize_address_record as norm\n",
    "import zipcodes"
   ]
  },
  {
   "cell_type": "code",
   "execution_count": 17,
   "metadata": {},
   "outputs": [],
   "source": [
    "APIkey = \"Insert Your API key for the google geocoder\"\n",
    "#https://developers.google.com/maps/documentation/geocoding/start"
   ]
  },
  {
   "cell_type": "code",
   "execution_count": 18,
   "metadata": {},
   "outputs": [],
   "source": [
    "gmaps = googlemaps.Client(key=APIkey)"
   ]
  },
  {
   "cell_type": "code",
   "execution_count": 5,
   "metadata": {},
   "outputs": [],
   "source": [
    "##############################################################################\n",
    "#https://data.acgov.org/datasets/86b6da3837a34f10b8493ea0d22f517a_0/data\n",
    "##############################################################################"
   ]
  },
  {
   "cell_type": "code",
   "execution_count": 5,
   "metadata": {},
   "outputs": [],
   "source": [
    "class StringConverter(dict):\n",
    "    def __contains__(self, item):\n",
    "        return True\n",
    "\n",
    "    def __getitem__(self, item):\n",
    "        return str\n",
    "\n",
    "    def get(self, default=None):\n",
    "        return str"
   ]
  },
  {
   "cell_type": "code",
   "execution_count": 11,
   "metadata": {},
   "outputs": [
    {
     "data": {
      "text/html": [
       "<div>\n",
       "<style scoped>\n",
       "    .dataframe tbody tr th:only-of-type {\n",
       "        vertical-align: middle;\n",
       "    }\n",
       "\n",
       "    .dataframe tbody tr th {\n",
       "        vertical-align: top;\n",
       "    }\n",
       "\n",
       "    .dataframe thead th {\n",
       "        text-align: right;\n",
       "    }\n",
       "</style>\n",
       "<table border=\"1\" class=\"dataframe\">\n",
       "  <thead>\n",
       "    <tr style=\"text-align: right;\">\n",
       "      <th></th>\n",
       "      <th>lng</th>\n",
       "      <th>lat</th>\n",
       "      <th>num</th>\n",
       "      <th>street</th>\n",
       "      <th>type</th>\n",
       "      <th>city</th>\n",
       "      <th>zip</th>\n",
       "      <th>address</th>\n",
       "      <th>APN</th>\n",
       "    </tr>\n",
       "  </thead>\n",
       "  <tbody>\n",
       "    <tr>\n",
       "      <th>0</th>\n",
       "      <td>-122.274696303430019</td>\n",
       "      <td>37.871972678572057</td>\n",
       "      <td>1806</td>\n",
       "      <td>BERKELEY</td>\n",
       "      <td>WY</td>\n",
       "      <td>BERKELEY</td>\n",
       "      <td>94703</td>\n",
       "      <td>1806 BERKELEY WY 6 BERKELEY 94703</td>\n",
       "      <td>057 206001200</td>\n",
       "    </tr>\n",
       "    <tr>\n",
       "      <th>1</th>\n",
       "      <td>-122.274696303430019</td>\n",
       "      <td>37.871972678572057</td>\n",
       "      <td>1810</td>\n",
       "      <td>BERKELEY</td>\n",
       "      <td>WY</td>\n",
       "      <td>BERKELEY</td>\n",
       "      <td>94703</td>\n",
       "      <td>1810 BERKELEY WY 9 BERKELEY 94703</td>\n",
       "      <td>057 206001200</td>\n",
       "    </tr>\n",
       "    <tr>\n",
       "      <th>2</th>\n",
       "      <td>-122.274696303430019</td>\n",
       "      <td>37.871972678572057</td>\n",
       "      <td>1806</td>\n",
       "      <td>BERKELEY</td>\n",
       "      <td>WY</td>\n",
       "      <td>BERKELEY</td>\n",
       "      <td>94703</td>\n",
       "      <td>1806 BERKELEY WY 12 BERKELEY 94703</td>\n",
       "      <td>057 206001200</td>\n",
       "    </tr>\n",
       "    <tr>\n",
       "      <th>3</th>\n",
       "      <td>-122.274696303430019</td>\n",
       "      <td>37.871972678572057</td>\n",
       "      <td>1806</td>\n",
       "      <td>BERKELEY</td>\n",
       "      <td>WY</td>\n",
       "      <td>BERKELEY</td>\n",
       "      <td>94703</td>\n",
       "      <td>1806 BERKELEY WY 11 BERKELEY 94703</td>\n",
       "      <td>057 206001200</td>\n",
       "    </tr>\n",
       "    <tr>\n",
       "      <th>4</th>\n",
       "      <td>-122.274696303430019</td>\n",
       "      <td>37.871972678572057</td>\n",
       "      <td>1810</td>\n",
       "      <td>BERKELEY</td>\n",
       "      <td>WY</td>\n",
       "      <td>BERKELEY</td>\n",
       "      <td>94703</td>\n",
       "      <td>1810 BERKELEY WY 10 BERKELEY 94703</td>\n",
       "      <td>057 206001200</td>\n",
       "    </tr>\n",
       "  </tbody>\n",
       "</table>\n",
       "</div>"
      ],
      "text/plain": [
       "                    lng                 lat   num    street type      city  \\\n",
       "0  -122.274696303430019  37.871972678572057  1806  BERKELEY   WY  BERKELEY   \n",
       "1  -122.274696303430019  37.871972678572057  1810  BERKELEY   WY  BERKELEY   \n",
       "2  -122.274696303430019  37.871972678572057  1806  BERKELEY   WY  BERKELEY   \n",
       "3  -122.274696303430019  37.871972678572057  1806  BERKELEY   WY  BERKELEY   \n",
       "4  -122.274696303430019  37.871972678572057  1810  BERKELEY   WY  BERKELEY   \n",
       "\n",
       "     zip                             address            APN  \n",
       "0  94703   1806 BERKELEY WY 6 BERKELEY 94703  057 206001200  \n",
       "1  94703   1810 BERKELEY WY 9 BERKELEY 94703  057 206001200  \n",
       "2  94703  1806 BERKELEY WY 12 BERKELEY 94703  057 206001200  \n",
       "3  94703  1806 BERKELEY WY 11 BERKELEY 94703  057 206001200  \n",
       "4  94703  1810 BERKELEY WY 10 BERKELEY 94703  057 206001200  "
      ]
     },
     "execution_count": 11,
     "metadata": {},
     "output_type": "execute_result"
    }
   ],
   "source": [
    "address_points = pandas.read_csv(\"../data/acgov/ac_gov_address_points.csv\", converters=StringConverter())\n",
    "address_points = address_points[[\"X\",\"Y\", \"ST_NUM\",\"FEANME\", \"FEATYP\", \"CITY\", \"ZIPCODE\", \"AddressLookup\", \"APN\"]]\n",
    "address_points = address_points.rename(columns=\n",
    "{\n",
    "    \"X\":\"lng\",\n",
    "    \"Y\":\"lat\",\n",
    "    \"ST_NUM\":\"num\",\n",
    "    \"FEANME\":\"street\",\n",
    "    \"FEATYP\":\"type\",\n",
    "    \"CITY\":\"city\",\n",
    "    \"ZIPCODE\":\"zip\",\n",
    "    \"AddressLookup\":\"address\"\n",
    "})\n",
    "address_points.head()"
   ]
  },
  {
   "cell_type": "code",
   "execution_count": 21,
   "metadata": {},
   "outputs": [
    {
     "data": {
      "text/plain": [
       "27169"
      ]
     },
     "execution_count": 21,
     "metadata": {},
     "output_type": "execute_result"
    }
   ],
   "source": [
    "#only want east oakland area\n",
    "targetZips = [\"94601\", \"94603\", \"94621\"]\n",
    "east_oakland_addr = address_points[[i in targetZips for i in address_points['zip']]]\n",
    "len(east_oakland_addr)"
   ]
  },
  {
   "cell_type": "code",
   "execution_count": 22,
   "metadata": {},
   "outputs": [
    {
     "name": "stderr",
     "output_type": "stream",
     "text": [
      "C:\\Users\\Ryan\\Anaconda3\\lib\\site-packages\\pandas\\core\\frame.py:4117: SettingWithCopyWarning: \n",
      "A value is trying to be set on a copy of a slice from a DataFrame\n",
      "\n",
      "See the caveats in the documentation: http://pandas.pydata.org/pandas-docs/stable/user_guide/indexing.html#returning-a-view-versus-a-copy\n",
      "  errors=errors,\n"
     ]
    },
    {
     "data": {
      "text/html": [
       "<div>\n",
       "<style scoped>\n",
       "    .dataframe tbody tr th:only-of-type {\n",
       "        vertical-align: middle;\n",
       "    }\n",
       "\n",
       "    .dataframe tbody tr th {\n",
       "        vertical-align: top;\n",
       "    }\n",
       "\n",
       "    .dataframe thead th {\n",
       "        text-align: right;\n",
       "    }\n",
       "</style>\n",
       "<table border=\"1\" class=\"dataframe\">\n",
       "  <thead>\n",
       "    <tr style=\"text-align: right;\">\n",
       "      <th></th>\n",
       "      <th>lng</th>\n",
       "      <th>lat</th>\n",
       "      <th>num</th>\n",
       "      <th>street</th>\n",
       "      <th>type</th>\n",
       "      <th>city</th>\n",
       "      <th>zip</th>\n",
       "      <th>address</th>\n",
       "      <th>APN</th>\n",
       "    </tr>\n",
       "  </thead>\n",
       "  <tbody>\n",
       "    <tr>\n",
       "      <th>0</th>\n",
       "      <td>-122.220341465325021</td>\n",
       "      <td>37.779664688415565</td>\n",
       "      <td>1638</td>\n",
       "      <td>35TH</td>\n",
       "      <td>AV</td>\n",
       "      <td>OAKLAND</td>\n",
       "      <td>94601</td>\n",
       "      <td>1638 35TH AV OAKLAND 94601</td>\n",
       "      <td>033 212901500</td>\n",
       "    </tr>\n",
       "    <tr>\n",
       "      <th>1</th>\n",
       "      <td>-122.220341465325021</td>\n",
       "      <td>37.779664688415565</td>\n",
       "      <td>1640</td>\n",
       "      <td>35TH</td>\n",
       "      <td>AV</td>\n",
       "      <td>OAKLAND</td>\n",
       "      <td>94601</td>\n",
       "      <td>1640 35TH AV OAKLAND 94601</td>\n",
       "      <td>033 212901500</td>\n",
       "    </tr>\n",
       "    <tr>\n",
       "      <th>2</th>\n",
       "      <td>-122.166158696817732</td>\n",
       "      <td>37.739277817553351</td>\n",
       "      <td>10500</td>\n",
       "      <td>14TH</td>\n",
       "      <td>ST</td>\n",
       "      <td>OAKLAND</td>\n",
       "      <td>94603</td>\n",
       "      <td>10500 E 14TH ST OAKLAND 94603</td>\n",
       "      <td>047 550904100</td>\n",
       "    </tr>\n",
       "    <tr>\n",
       "      <th>3</th>\n",
       "      <td>-122.166158696817732</td>\n",
       "      <td>37.739277817553351</td>\n",
       "      <td>10500</td>\n",
       "      <td>INTERNATIONAL</td>\n",
       "      <td>BL</td>\n",
       "      <td>OAKLAND</td>\n",
       "      <td>94603</td>\n",
       "      <td>10500 INTERNATIONAL BL OAKLAND 94603</td>\n",
       "      <td>047 550904100</td>\n",
       "    </tr>\n",
       "    <tr>\n",
       "      <th>4</th>\n",
       "      <td>-122.166041667895769</td>\n",
       "      <td>37.739334300044476</td>\n",
       "      <td>1428</td>\n",
       "      <td>105TH</td>\n",
       "      <td>AV</td>\n",
       "      <td>OAKLAND</td>\n",
       "      <td>94603</td>\n",
       "      <td>1428 105TH AV OAKLAND 94603</td>\n",
       "      <td>047 550904100</td>\n",
       "    </tr>\n",
       "  </tbody>\n",
       "</table>\n",
       "</div>"
      ],
      "text/plain": [
       "                    lng                 lat    num         street type  \\\n",
       "0  -122.220341465325021  37.779664688415565   1638           35TH   AV   \n",
       "1  -122.220341465325021  37.779664688415565   1640           35TH   AV   \n",
       "2  -122.166158696817732  37.739277817553351  10500           14TH   ST   \n",
       "3  -122.166158696817732  37.739277817553351  10500  INTERNATIONAL   BL   \n",
       "4  -122.166041667895769  37.739334300044476   1428          105TH   AV   \n",
       "\n",
       "      city    zip                               address            APN  \n",
       "0  OAKLAND  94601            1638 35TH AV OAKLAND 94601  033 212901500  \n",
       "1  OAKLAND  94601            1640 35TH AV OAKLAND 94601  033 212901500  \n",
       "2  OAKLAND  94603         10500 E 14TH ST OAKLAND 94603  047 550904100  \n",
       "3  OAKLAND  94603  10500 INTERNATIONAL BL OAKLAND 94603  047 550904100  \n",
       "4  OAKLAND  94603           1428 105TH AV OAKLAND 94603  047 550904100  "
      ]
     },
     "execution_count": 22,
     "metadata": {},
     "output_type": "execute_result"
    }
   ],
   "source": [
    "east_oakland_addr.reset_index(inplace=True)\n",
    "east_oakland_addr.drop('index', axis=1, inplace=True)\n",
    "east_oakland_addr.head()"
   ]
  },
  {
   "cell_type": "code",
   "execution_count": 10,
   "metadata": {},
   "outputs": [
    {
     "name": "stdout",
     "output_type": "stream",
     "text": [
      "482377\n"
     ]
    },
    {
     "data": {
      "text/html": [
       "<div>\n",
       "<style scoped>\n",
       "    .dataframe tbody tr th:only-of-type {\n",
       "        vertical-align: middle;\n",
       "    }\n",
       "\n",
       "    .dataframe tbody tr th {\n",
       "        vertical-align: top;\n",
       "    }\n",
       "\n",
       "    .dataframe thead th {\n",
       "        text-align: right;\n",
       "    }\n",
       "</style>\n",
       "<table border=\"1\" class=\"dataframe\">\n",
       "  <thead>\n",
       "    <tr style=\"text-align: right;\">\n",
       "      <th></th>\n",
       "      <th>APN</th>\n",
       "      <th>APN_SORT</th>\n",
       "      <th>YearBuilt</th>\n",
       "      <th>SitusStreetNumber</th>\n",
       "      <th>SitusStreetName</th>\n",
       "      <th>SitusUnit</th>\n",
       "      <th>SitusCity</th>\n",
       "      <th>SitusZip</th>\n",
       "      <th>SitusAddress</th>\n",
       "      <th>MailingAddress</th>\n",
       "    </tr>\n",
       "  </thead>\n",
       "  <tbody>\n",
       "    <tr>\n",
       "      <th>0</th>\n",
       "      <td>10-829-51</td>\n",
       "      <td>010 082909000</td>\n",
       "      <td>1974</td>\n",
       "      <td>500</td>\n",
       "      <td>VERNON ST</td>\n",
       "      <td>203</td>\n",
       "      <td>OAKLAND</td>\n",
       "      <td>94610</td>\n",
       "      <td>500 VERNON ST  203 OAKLAND 94610</td>\n",
       "      <td>500 VERNON ST 203 OAKLAND CA 94610</td>\n",
       "    </tr>\n",
       "    <tr>\n",
       "      <th>1</th>\n",
       "      <td>10-829-52</td>\n",
       "      <td>010 082909000</td>\n",
       "      <td>1974</td>\n",
       "      <td>500</td>\n",
       "      <td>VERNON ST</td>\n",
       "      <td>303</td>\n",
       "      <td>OAKLAND</td>\n",
       "      <td>94610</td>\n",
       "      <td>500 VERNON ST  303 OAKLAND 94610</td>\n",
       "      <td>43 QUAIL CT 205 WALNUT CREEK CA 94596</td>\n",
       "    </tr>\n",
       "    <tr>\n",
       "      <th>2</th>\n",
       "      <td>10-829-53</td>\n",
       "      <td>010 082909000</td>\n",
       "      <td>1974</td>\n",
       "      <td>500</td>\n",
       "      <td>VERNON ST</td>\n",
       "      <td>104</td>\n",
       "      <td>OAKLAND</td>\n",
       "      <td>94610</td>\n",
       "      <td>500 VERNON ST  104 OAKLAND 94610</td>\n",
       "      <td>500 VERNON ST 104 OAKLAND CA 94610</td>\n",
       "    </tr>\n",
       "    <tr>\n",
       "      <th>3</th>\n",
       "      <td>10-829-54</td>\n",
       "      <td>010 082909000</td>\n",
       "      <td>1974</td>\n",
       "      <td>500</td>\n",
       "      <td>VERNON ST</td>\n",
       "      <td>204</td>\n",
       "      <td>OAKLAND</td>\n",
       "      <td>94610</td>\n",
       "      <td>500 VERNON ST  204 OAKLAND 94610</td>\n",
       "      <td>362 SANTA CLARA AVE OAKLAND CA 94610</td>\n",
       "    </tr>\n",
       "    <tr>\n",
       "      <th>4</th>\n",
       "      <td>10-829-55</td>\n",
       "      <td>010 082909000</td>\n",
       "      <td>1974</td>\n",
       "      <td>500</td>\n",
       "      <td>VERNON ST</td>\n",
       "      <td>304</td>\n",
       "      <td>OAKLAND</td>\n",
       "      <td>94610</td>\n",
       "      <td>500 VERNON ST  304 OAKLAND 94610</td>\n",
       "      <td>1214 N WILLIAM ST JOLIET IL 60435</td>\n",
       "    </tr>\n",
       "  </tbody>\n",
       "</table>\n",
       "</div>"
      ],
      "text/plain": [
       "         APN       APN_SORT YearBuilt SitusStreetNumber SitusStreetName  \\\n",
       "0  10-829-51  010 082909000      1974               500       VERNON ST   \n",
       "1  10-829-52  010 082909000      1974               500       VERNON ST   \n",
       "2  10-829-53  010 082909000      1974               500       VERNON ST   \n",
       "3  10-829-54  010 082909000      1974               500       VERNON ST   \n",
       "4  10-829-55  010 082909000      1974               500       VERNON ST   \n",
       "\n",
       "  SitusUnit SitusCity SitusZip                      SitusAddress  \\\n",
       "0       203   OAKLAND    94610  500 VERNON ST  203 OAKLAND 94610   \n",
       "1       303   OAKLAND    94610  500 VERNON ST  303 OAKLAND 94610   \n",
       "2       104   OAKLAND    94610  500 VERNON ST  104 OAKLAND 94610   \n",
       "3       204   OAKLAND    94610  500 VERNON ST  204 OAKLAND 94610   \n",
       "4       304   OAKLAND    94610  500 VERNON ST  304 OAKLAND 94610   \n",
       "\n",
       "                          MailingAddress  \n",
       "0     500 VERNON ST 203 OAKLAND CA 94610  \n",
       "1  43 QUAIL CT 205 WALNUT CREEK CA 94596  \n",
       "2     500 VERNON ST 104 OAKLAND CA 94610  \n",
       "3   362 SANTA CLARA AVE OAKLAND CA 94610  \n",
       "4      1214 N WILLIAM ST JOLIET IL 60435  "
      ]
     },
     "execution_count": 10,
     "metadata": {},
     "output_type": "execute_result"
    }
   ],
   "source": [
    "parcels = pandas.read_csv(\"../data/acgov/ac_gov_parcels.csv\", converters=StringConverter())\n",
    "parcels = parcels[['APN','APN_SORT', 'YearBuilt', 'SitusStreetNumber', 'SitusStreetName', 'SitusUnit', 'SitusCity', 'SitusZip', 'SitusAddress','MailingAddress']]\n",
    "print(len(parcels))\n",
    "parcels.head()"
   ]
  },
  {
   "cell_type": "code",
   "execution_count": 24,
   "metadata": {},
   "outputs": [
    {
     "data": {
      "text/plain": [
       "26269"
      ]
     },
     "execution_count": 24,
     "metadata": {},
     "output_type": "execute_result"
    }
   ],
   "source": [
    "#only want east oakland area\n",
    "targetZips = [\"94601\", \"94603\", \"94621\"]\n",
    "east_oakland_parcels = parcels[[i in targetZips for i in parcels['SitusZip']]]\n",
    "len(east_oakland_parcels)"
   ]
  },
  {
   "cell_type": "code",
   "execution_count": 25,
   "metadata": {},
   "outputs": [
    {
     "data": {
      "text/html": [
       "<div>\n",
       "<style scoped>\n",
       "    .dataframe tbody tr th:only-of-type {\n",
       "        vertical-align: middle;\n",
       "    }\n",
       "\n",
       "    .dataframe tbody tr th {\n",
       "        vertical-align: top;\n",
       "    }\n",
       "\n",
       "    .dataframe thead th {\n",
       "        text-align: right;\n",
       "    }\n",
       "</style>\n",
       "<table border=\"1\" class=\"dataframe\">\n",
       "  <thead>\n",
       "    <tr style=\"text-align: right;\">\n",
       "      <th></th>\n",
       "      <th>APN</th>\n",
       "      <th>APN_SORT</th>\n",
       "      <th>YearBuilt</th>\n",
       "      <th>SitusStreetNumber</th>\n",
       "      <th>SitusStreetName</th>\n",
       "      <th>SitusUnit</th>\n",
       "      <th>SitusCity</th>\n",
       "      <th>SitusZip</th>\n",
       "      <th>SitusAddress</th>\n",
       "      <th>MailingAddress</th>\n",
       "    </tr>\n",
       "  </thead>\n",
       "  <tbody>\n",
       "    <tr>\n",
       "      <th>0</th>\n",
       "      <td>14-1199-34</td>\n",
       "      <td>014 119903400</td>\n",
       "      <td>1983</td>\n",
       "      <td>55TH</td>\n",
       "      <td>ST</td>\n",
       "      <td></td>\n",
       "      <td>OAKLAND</td>\n",
       "      <td>94621</td>\n",
       "      <td>55TH ST OAKLAND 94621</td>\n",
       "      <td>835 55TH ST OAKLAND CA 94608</td>\n",
       "    </tr>\n",
       "    <tr>\n",
       "      <th>1</th>\n",
       "      <td>19-98-5-6</td>\n",
       "      <td>019 009800506</td>\n",
       "      <td>0</td>\n",
       "      <td>2434</td>\n",
       "      <td>E 11TH ST</td>\n",
       "      <td></td>\n",
       "      <td>OAKLAND</td>\n",
       "      <td>94601</td>\n",
       "      <td>2434 E 11TH ST OAKLAND 94601</td>\n",
       "      <td>PO BOX 7509 OAKLAND CA 94601</td>\n",
       "    </tr>\n",
       "    <tr>\n",
       "      <th>2</th>\n",
       "      <td>19-98-6</td>\n",
       "      <td>019 009800600</td>\n",
       "      <td>0</td>\n",
       "      <td>1134</td>\n",
       "      <td>MILLER AVE</td>\n",
       "      <td></td>\n",
       "      <td>OAKLAND</td>\n",
       "      <td>94601</td>\n",
       "      <td>1134 MILLER AVE OAKLAND 94601</td>\n",
       "      <td>PO BOX 7509 OAKLAND CA 94601</td>\n",
       "    </tr>\n",
       "    <tr>\n",
       "      <th>3</th>\n",
       "      <td>19-98-5-5</td>\n",
       "      <td>019 009800505</td>\n",
       "      <td>1900</td>\n",
       "      <td>2424</td>\n",
       "      <td>E 11TH ST</td>\n",
       "      <td></td>\n",
       "      <td>OAKLAND</td>\n",
       "      <td>94601</td>\n",
       "      <td>2424 E 11TH ST OAKLAND 94601</td>\n",
       "      <td>P.O. BOX 3999 BERKELEY CA 94703</td>\n",
       "    </tr>\n",
       "    <tr>\n",
       "      <th>4</th>\n",
       "      <td>19-98-5-4</td>\n",
       "      <td>019 009800504</td>\n",
       "      <td>1900</td>\n",
       "      <td>2430</td>\n",
       "      <td>E 11TH ST</td>\n",
       "      <td></td>\n",
       "      <td>OAKLAND</td>\n",
       "      <td>94601</td>\n",
       "      <td>2430 E 11TH ST OAKLAND 94601</td>\n",
       "      <td>2430 E 11TH ST OAKLAND CA 94601</td>\n",
       "    </tr>\n",
       "  </tbody>\n",
       "</table>\n",
       "</div>"
      ],
      "text/plain": [
       "          APN       APN_SORT YearBuilt SitusStreetNumber SitusStreetName  \\\n",
       "0  14-1199-34  014 119903400      1983              55TH              ST   \n",
       "1   19-98-5-6  019 009800506         0              2434       E 11TH ST   \n",
       "2     19-98-6  019 009800600         0              1134      MILLER AVE   \n",
       "3   19-98-5-5  019 009800505      1900              2424       E 11TH ST   \n",
       "4   19-98-5-4  019 009800504      1900              2430       E 11TH ST   \n",
       "\n",
       "  SitusUnit SitusCity SitusZip                   SitusAddress  \\\n",
       "0             OAKLAND    94621          55TH ST OAKLAND 94621   \n",
       "1             OAKLAND    94601   2434 E 11TH ST OAKLAND 94601   \n",
       "2             OAKLAND    94601  1134 MILLER AVE OAKLAND 94601   \n",
       "3             OAKLAND    94601   2424 E 11TH ST OAKLAND 94601   \n",
       "4             OAKLAND    94601   2430 E 11TH ST OAKLAND 94601   \n",
       "\n",
       "                    MailingAddress  \n",
       "0     835 55TH ST OAKLAND CA 94608  \n",
       "1     PO BOX 7509 OAKLAND CA 94601  \n",
       "2     PO BOX 7509 OAKLAND CA 94601  \n",
       "3  P.O. BOX 3999 BERKELEY CA 94703  \n",
       "4  2430 E 11TH ST OAKLAND CA 94601  "
      ]
     },
     "execution_count": 25,
     "metadata": {},
     "output_type": "execute_result"
    }
   ],
   "source": [
    "east_oakland_parcels.reset_index(inplace=True)\n",
    "east_oakland_parcels.drop('index', axis=1, inplace=True)\n",
    "east_oakland_parcels.head()"
   ]
  },
  {
   "cell_type": "code",
   "execution_count": 12,
   "metadata": {},
   "outputs": [],
   "source": [
    "a#############################################################################"
   ]
  },
  {
   "cell_type": "code",
   "execution_count": 26,
   "metadata": {},
   "outputs": [],
   "source": [
    "#takes zipcode as string input, returns name of city\n",
    "def zipToCity(zipCode):\n",
    "    return zipcodes.matching(zipCode)[0][\"city\"]\n",
    "\n",
    "#takes address (as much as exists...hopefully enough) as string input, returns zipcode\n",
    "def retrieveZip(address):\n",
    "    res = gmaps.geocode(address)\n",
    "    zipcode =  res[0]['address_components'][-1]['long_name']\n",
    "    return zipcode"
   ]
  },
  {
   "cell_type": "code",
   "execution_count": null,
   "metadata": {},
   "outputs": [],
   "source": []
  },
  {
   "cell_type": "code",
   "execution_count": 27,
   "metadata": {},
   "outputs": [],
   "source": [
    "#usaddress.tag breaks up the address into components\n",
    "    #some addresses have unusual elements (ex/ 'StreetNamePreDirectional' as in 10500 E 14th St)\n",
    "    #if an address doesn't work, you might need to update this function which is brittle\n",
    "    #a more robust option is the google geocoder to parse and normalize addresses, but $$$\n",
    "#scourgify.norm converts the input into a standard format\n",
    "def parse_and_norm(address, recursive=False):\n",
    "    if recursive:\n",
    "        print(\"Attempting to parse {} with google geocoder\".format(address))\n",
    "    try:\n",
    "        parsed = usaddress.tag(address)[0]\n",
    "\n",
    "        #AddressNumberPrefix\n",
    "        AddressNumber = parsed['AddressNumber']\n",
    "        #AddressNumberSuffix\n",
    "        StreetNamePreDirectional = \" \" + parsed['StreetNamePreDirectional'] if 'StreetNamePreDirectional' in parsed else \"\"\n",
    "        StreetName = parsed[\"StreetName\"]\n",
    "        StreetNamePostType = parsed['StreetNamePostType']\n",
    "        OccupancyType = parsed['OccupancyType'] if 'OccupancyType' in parsed else \"\" #ex/Apt, Suite\n",
    "        OccupancyIdentifier = parsed['OccupancyIdentifier'] if 'OccupancyIdentifier' in parsed else \"\" #ex/ #3\n",
    "        PlaceName = parsed['PlaceName'] \n",
    "        ZipCode = parsed['ZipCode']\n",
    "\n",
    "        #retrieve missing zip with google geocoder (this should be rarely needed)\n",
    "        if len(ZipCode) < 5:\n",
    "            print(\"Invalid Zip Code ({}) from {}\".format(ZipCode,address))\n",
    "            ZipCode = retrieveZip(address)\n",
    "            \n",
    "        #retrieve missing city name with zip\n",
    "        if len(PlaceName) < 2:\n",
    "            PlaceName = zipToCity(ZipCode)\n",
    "\n",
    "        input = {\n",
    "            'address_line_1': AddressNumber + StreetNamePreDirectional + \" \" + StreetName + \" \" + StreetNamePostType,\n",
    "            'address_line_2': \"\",\n",
    "            'city': PlaceName,\n",
    "            'state': 'CA', #hardcoded\n",
    "            'postal_code': ZipCode\n",
    "        }\n",
    "\n",
    "        normalized = norm(input)\n",
    "        if (recursive):\n",
    "            print(\"     ^ success\")\n",
    "        return normalized\n",
    "    except:\n",
    "        #if failed, try to use google geocoder api to clean address and recover missing fields\n",
    "        if recursive==True:\n",
    "            raise Exception(\"failed to parse and normalize address -- google geocoder failed too\")\n",
    "            return\n",
    "        google_address = gmaps.geocode(address)[0]['formatted_address']\n",
    "        return parse_and_norm(google_address, True)"
   ]
  },
  {
   "cell_type": "code",
   "execution_count": 28,
   "metadata": {},
   "outputs": [],
   "source": [
    "#Parse and Normalize address column to prepare for lookup from scraped data\n",
    "#input table and name of address column\n",
    "#return list (index, address) of rows which could not be standardized\n",
    "def standardize_address(tbl, col):\n",
    "    tbl['line_1'] = \"\"\n",
    "    tbl['line_2'] = \"\"\n",
    "    tbl['city'] = \"\"\n",
    "    tbl['state'] = \"\"\n",
    "    tbl['postal'] = \"\"\n",
    "    errors = []\n",
    "    for i in range(len(tbl)):\n",
    "        try:\n",
    "            if (i%1000==0): print(i)\n",
    "            normed = parse_and_norm(tbl.iloc[i][col])\n",
    "            tbl.iloc[i][\"line_1\"]=normed['address_line_1']\n",
    "            tbl.iloc[i]['line_2']=normed['address_line_2']\n",
    "            tbl.iloc[i]['city']=normed['city']\n",
    "            tbl.iloc[i]['state']=normed['state']\n",
    "            tbl.iloc[i]['postal']=normed['postal_code']\n",
    "        except Exception as e:\n",
    "            #print(i)\n",
    "            #print(repr(e))\n",
    "            errors.append(i)\n",
    "    print(\"Errors: \" + str(len(errors)))\n",
    "    failingAddresses = [(i,tbl.iloc[i][col]) for i in errors]\n",
    "    return failingAddresses"
   ]
  },
  {
   "cell_type": "code",
   "execution_count": 29,
   "metadata": {},
   "outputs": [
    {
     "name": "stderr",
     "output_type": "stream",
     "text": [
      "C:\\Users\\Ryan\\Anaconda3\\lib\\site-packages\\ipykernel_launcher.py:5: SettingWithCopyWarning: \n",
      "A value is trying to be set on a copy of a slice from a DataFrame.\n",
      "Try using .loc[row_indexer,col_indexer] = value instead\n",
      "\n",
      "See the caveats in the documentation: http://pandas.pydata.org/pandas-docs/stable/user_guide/indexing.html#returning-a-view-versus-a-copy\n",
      "  \"\"\"\n",
      "C:\\Users\\Ryan\\Anaconda3\\lib\\site-packages\\ipykernel_launcher.py:6: SettingWithCopyWarning: \n",
      "A value is trying to be set on a copy of a slice from a DataFrame.\n",
      "Try using .loc[row_indexer,col_indexer] = value instead\n",
      "\n",
      "See the caveats in the documentation: http://pandas.pydata.org/pandas-docs/stable/user_guide/indexing.html#returning-a-view-versus-a-copy\n",
      "  \n",
      "C:\\Users\\Ryan\\Anaconda3\\lib\\site-packages\\ipykernel_launcher.py:7: SettingWithCopyWarning: \n",
      "A value is trying to be set on a copy of a slice from a DataFrame.\n",
      "Try using .loc[row_indexer,col_indexer] = value instead\n",
      "\n",
      "See the caveats in the documentation: http://pandas.pydata.org/pandas-docs/stable/user_guide/indexing.html#returning-a-view-versus-a-copy\n",
      "  import sys\n",
      "C:\\Users\\Ryan\\Anaconda3\\lib\\site-packages\\ipykernel_launcher.py:8: SettingWithCopyWarning: \n",
      "A value is trying to be set on a copy of a slice from a DataFrame.\n",
      "Try using .loc[row_indexer,col_indexer] = value instead\n",
      "\n",
      "See the caveats in the documentation: http://pandas.pydata.org/pandas-docs/stable/user_guide/indexing.html#returning-a-view-versus-a-copy\n",
      "  \n",
      "C:\\Users\\Ryan\\Anaconda3\\lib\\site-packages\\ipykernel_launcher.py:9: SettingWithCopyWarning: \n",
      "A value is trying to be set on a copy of a slice from a DataFrame.\n",
      "Try using .loc[row_indexer,col_indexer] = value instead\n",
      "\n",
      "See the caveats in the documentation: http://pandas.pydata.org/pandas-docs/stable/user_guide/indexing.html#returning-a-view-versus-a-copy\n",
      "  if __name__ == '__main__':\n",
      "C:\\Users\\Ryan\\Anaconda3\\lib\\site-packages\\ipykernel_launcher.py:15: SettingWithCopyWarning: \n",
      "A value is trying to be set on a copy of a slice from a DataFrame\n",
      "\n",
      "See the caveats in the documentation: http://pandas.pydata.org/pandas-docs/stable/user_guide/indexing.html#returning-a-view-versus-a-copy\n",
      "  from ipykernel import kernelapp as app\n",
      "C:\\Users\\Ryan\\Anaconda3\\lib\\site-packages\\ipykernel_launcher.py:16: SettingWithCopyWarning: \n",
      "A value is trying to be set on a copy of a slice from a DataFrame\n",
      "\n",
      "See the caveats in the documentation: http://pandas.pydata.org/pandas-docs/stable/user_guide/indexing.html#returning-a-view-versus-a-copy\n",
      "  app.launch_new_instance()\n",
      "C:\\Users\\Ryan\\Anaconda3\\lib\\site-packages\\ipykernel_launcher.py:17: SettingWithCopyWarning: \n",
      "A value is trying to be set on a copy of a slice from a DataFrame\n",
      "\n",
      "See the caveats in the documentation: http://pandas.pydata.org/pandas-docs/stable/user_guide/indexing.html#returning-a-view-versus-a-copy\n",
      "C:\\Users\\Ryan\\Anaconda3\\lib\\site-packages\\ipykernel_launcher.py:18: SettingWithCopyWarning: \n",
      "A value is trying to be set on a copy of a slice from a DataFrame\n",
      "\n",
      "See the caveats in the documentation: http://pandas.pydata.org/pandas-docs/stable/user_guide/indexing.html#returning-a-view-versus-a-copy\n",
      "C:\\Users\\Ryan\\Anaconda3\\lib\\site-packages\\ipykernel_launcher.py:19: SettingWithCopyWarning: \n",
      "A value is trying to be set on a copy of a slice from a DataFrame\n",
      "\n",
      "See the caveats in the documentation: http://pandas.pydata.org/pandas-docs/stable/user_guide/indexing.html#returning-a-view-versus-a-copy\n"
     ]
    },
    {
     "name": "stdout",
     "output_type": "stream",
     "text": [
      "0\n",
      "1000\n",
      "2000\n",
      "3000\n",
      "4000\n",
      "5000\n",
      "6000\n",
      "7000\n",
      "8000\n",
      "9000\n",
      "10000\n",
      "11000\n",
      "12000\n",
      "13000\n",
      "14000\n",
      "15000\n",
      "16000\n",
      "17000\n",
      "18000\n",
      "19000\n",
      "20000\n",
      "21000\n",
      "22000\n",
      "23000\n",
      "24000\n",
      "25000\n",
      "26000\n",
      "27000\n",
      "Errors: 0\n"
     ]
    },
    {
     "data": {
      "text/plain": [
       "[]"
      ]
     },
     "execution_count": 29,
     "metadata": {},
     "output_type": "execute_result"
    }
   ],
   "source": [
    "standardize_address(east_oakland_addr, \"address\")"
   ]
  },
  {
   "cell_type": "code",
   "execution_count": 30,
   "metadata": {},
   "outputs": [],
   "source": [
    "#Warning: Following cell will use lots of API calls to google geocoder; run with caution"
   ]
  },
  {
   "cell_type": "code",
   "execution_count": null,
   "metadata": {},
   "outputs": [],
   "source": [
    "#missingNumber = standardize_address(east_oakland_parcels, \"SitusAddress\")"
   ]
  },
  {
   "cell_type": "code",
   "execution_count": 177,
   "metadata": {},
   "outputs": [],
   "source": [
    "missingNumber = [i[0] for i in missingNumber]"
   ]
  },
  {
   "cell_type": "code",
   "execution_count": 178,
   "metadata": {},
   "outputs": [
    {
     "data": {
      "text/plain": [
       "24541"
      ]
     },
     "execution_count": 178,
     "metadata": {},
     "output_type": "execute_result"
    }
   ],
   "source": [
    "clean_eo_parcels = east_oakland_parcels.drop(east_oakland_parcels.index[noNumber])\n",
    "len(clean_eo_parcels)"
   ]
  },
  {
   "cell_type": "code",
   "execution_count": 17,
   "metadata": {},
   "outputs": [],
   "source": [
    "fail = pandas.DataFrame(failingAddresses)\n",
    "    fail.to_csv(\"failing.csv\", index=False)"
   ]
  },
  {
   "cell_type": "code",
   "execution_count": 32,
   "metadata": {},
   "outputs": [
    {
     "ename": "NameError",
     "evalue": "name 'clean_eo_parcels' is not defined",
     "output_type": "error",
     "traceback": [
      "\u001b[1;31m---------------------------------------------------------------------------\u001b[0m",
      "\u001b[1;31mNameError\u001b[0m                                 Traceback (most recent call last)",
      "\u001b[1;32m<ipython-input-32-cbb86db78868>\u001b[0m in \u001b[0;36m<module>\u001b[1;34m\u001b[0m\n\u001b[0;32m      1\u001b[0m \u001b[0meast_oakland_addr\u001b[0m\u001b[1;33m.\u001b[0m\u001b[0mto_csv\u001b[0m\u001b[1;33m(\u001b[0m\u001b[1;34m\"eo_addr.csv\"\u001b[0m\u001b[1;33m,\u001b[0m \u001b[0mindex\u001b[0m\u001b[1;33m=\u001b[0m\u001b[1;32mFalse\u001b[0m\u001b[1;33m)\u001b[0m\u001b[1;33m\u001b[0m\u001b[0m\n\u001b[1;32m----> 2\u001b[1;33m \u001b[0mclean_eo_parcels\u001b[0m\u001b[1;33m.\u001b[0m\u001b[0mto_csv\u001b[0m\u001b[1;33m(\u001b[0m\u001b[1;34m\"eo_parcels.csv\"\u001b[0m\u001b[1;33m,\u001b[0m \u001b[0mindex\u001b[0m\u001b[1;33m=\u001b[0m\u001b[1;32mFalse\u001b[0m\u001b[1;33m)\u001b[0m\u001b[1;33m\u001b[0m\u001b[0m\n\u001b[0m",
      "\u001b[1;31mNameError\u001b[0m: name 'clean_eo_parcels' is not defined"
     ]
    }
   ],
   "source": [
    "east_oakland_addr.to_csv(\"../data/processed_acgov/eo_addr.csv\", index=False)\n",
    "clean_eo_parcels.to_csv(\"../data/processed_acgov/eo_parcels.csv\", index=False)"
   ]
  },
  {
   "cell_type": "code",
   "execution_count": 186,
   "metadata": {},
   "outputs": [],
   "source": [
    "###################################################################################\n",
    "# Use above data and functions to retrieve APNs from address strings\n",
    "###################################################################################"
   ]
  },
  {
   "cell_type": "code",
   "execution_count": 33,
   "metadata": {},
   "outputs": [],
   "source": [
    "eo_addr = pandas.read_csv(\"../data/processed_acgov/eo_addr.csv\")\n",
    "eo_parcels = pandas.read_csv(\"../data/processed_acgov/eo_parcels.csv\")"
   ]
  },
  {
   "cell_type": "code",
   "execution_count": 37,
   "metadata": {},
   "outputs": [],
   "source": [
    "#Retrieve APN From Address string\n",
    "#returns series; address may have multiple parcels\n",
    "def getAPN(address):\n",
    "    normalized = parse_and_norm(address)\n",
    "    line_1 = normalized['address_line_1']\n",
    "    postal = normalized['postal_code']\n",
    "    q1 = eo_addr.query(\"line_1==@line_1 and postal==@postal\").drop_duplicates(\"APN\")[\"APN\"]\n",
    "    q2 = eo_parcels.query(\"line_1==@line_1 and postal==@postal\").drop_duplicates(\"APN_SORT\")[\"APN_SORT\"]\n",
    "    #convert list to set and back to only return unique values (set keys must be unique)\n",
    "    return list(set(q1.tolist() + q2.tolist()))\n",
    "        "
   ]
  },
  {
   "cell_type": "code",
   "execution_count": 38,
   "metadata": {},
   "outputs": [
    {
     "data": {
      "text/plain": [
       "['039 325101400']"
      ]
     },
     "execution_count": 38,
     "metadata": {},
     "output_type": "execute_result"
    }
   ],
   "source": [
    "getAPN(\"1745 CHURCH ST, Oakland CA 94621\")"
   ]
  }
 ],
 "metadata": {
  "kernelspec": {
   "display_name": "Python 3",
   "language": "python",
   "name": "python3"
  },
  "language_info": {
   "codemirror_mode": {
    "name": "ipython",
    "version": 3
   },
   "file_extension": ".py",
   "mimetype": "text/x-python",
   "name": "python",
   "nbconvert_exporter": "python",
   "pygments_lexer": "ipython3",
   "version": "3.6.4"
  }
 },
 "nbformat": 4,
 "nbformat_minor": 4
}
