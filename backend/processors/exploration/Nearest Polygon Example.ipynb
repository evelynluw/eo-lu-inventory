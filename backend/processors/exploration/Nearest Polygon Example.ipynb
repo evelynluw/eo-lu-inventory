{
 "cells": [
  {
   "cell_type": "code",
   "execution_count": 1,
   "metadata": {
    "scrolled": true
   },
   "outputs": [],
   "source": [
    "import geopandas as gpd\n",
    "import pandas as pd\n",
    "import rtree"
   ]
  },
  {
   "cell_type": "code",
   "execution_count": 63,
   "metadata": {},
   "outputs": [],
   "source": [
    "ac_parcels_poly = gpd.read_file(\"../../data/raw/ac_parcels\")\n",
    "ac_parcels_poly.crs = 'epsg:4326' # set the CRS of the shapefile\n",
    "#ac_parcels_poly = ac_parcels_poly.to_crs(epsg=3857) # transform to a projected geometry for operations\n",
    "ac_parcels_poly_sindex = ac_parcels_poly.sindex"
   ]
  },
  {
   "cell_type": "code",
   "execution_count": 64,
   "metadata": {},
   "outputs": [],
   "source": [
    "d = {'lat': [37.7501568], 'long': [-122.1941158],'location': ['AB&I']} # sample df with coordinates for AB&I Foundry in East Oakland\n",
    "df = pd.DataFrame(data=d)\n",
    "pt_data = gpd.GeoDataFrame(\n",
    "    df, geometry=gpd.points_from_xy(\n",
    "        x=df[\"long\"], y=df[\"lat\"]))\n",
    "pt_data.crs = 'epsg:4326' # set the CRS of the shapefile\n",
    "#pt_data = pt_data.to_crs(epsg=3857) # transform to a projected geometry for operations"
   ]
  },
  {
   "cell_type": "code",
   "execution_count": 71,
   "metadata": {},
   "outputs": [
    {
     "name": "stdout",
     "output_type": "stream",
     "text": [
      "No matches, grabbing closest\n"
     ]
    }
   ],
   "source": [
    "def find_closest_parcel(row):\n",
    "    point = row[\"geometry\"]\n",
    "    bounds = point.bounds\n",
    "    possible_matches_idx = list(ac_parcels_poly_sindex.intersection(point.bounds))\n",
    "    possible_matches = ac_parcels_poly.iloc[possible_matches_idx]\n",
    "    hits = possible_matches[possible_matches.intersects(point)]\n",
    "    \n",
    "    closest_idx = None\n",
    "    closest_dist = float(\"inf\")    \n",
    "    if len(hits) == 1:   # a single overlapping parcel\n",
    "        print(\"Single overlapping\")\n",
    "        closest_idx = int(hits.index[0])\n",
    "        closest_dist = 0\n",
    "    elif len(hits) > 1:  # multiple overlapping parcels: pick one with closest centroid\n",
    "        print(\"Multiple overlapping\")\n",
    "        dist_to_centroids = [point.distance(centroid) for centroid in hits.centroid]\n",
    "        closest = np.argmin(dist_to_centroids)\n",
    "        closest_idx = int(hits.index[closest])\n",
    "        closest_dist = 0\n",
    "    else:                # no matches, grab nearest parcel in r-tree\n",
    "        print(\"No matches, grabbing closest\")\n",
    "        closest_idx = list(ac_parcels_poly_sindex.nearest(point.bounds, 1))[0]\n",
    "        closest_dist = ac_parcels_poly.loc[int(closest_idx)][\"geometry\"].distance(point)\n",
    "    return (closest_idx, closest_dist)\n",
    "\n",
    "pt_data[[\"parcel_idx\", \"parcel_dist\"]] = pt_data.apply(\n",
    "    lambda x: find_closest_parcel(x), axis=1, result_type=\"expand\")"
   ]
  },
  {
   "cell_type": "code",
   "execution_count": 70,
   "metadata": {},
   "outputs": [
    {
     "data": {
      "text/plain": [
       "rtree.index.Index(bounds=[-122.30457081355219, 37.57487269957006, -121.745084219451, 37.88489315224816], size=1000)"
      ]
     },
     "execution_count": 70,
     "metadata": {},
     "output_type": "execute_result"
    }
   ],
   "source": [
    "ac_parcels_poly_sindex"
   ]
  },
  {
   "cell_type": "code",
   "execution_count": 68,
   "metadata": {
    "scrolled": true
   },
   "outputs": [
    {
     "data": {
      "text/plain": [
       "fid_parcel                                                  348\n",
       "book                                                         45\n",
       "page                                                       5389\n",
       "clca_categ                                                 None\n",
       "date_updat                                           2004-08-09\n",
       "centroid_y                                      2092305.2523999\n",
       "sub_parcel                                                 None\n",
       "apn_sort                                          045 538902500\n",
       "parcel                                                       25\n",
       "centroid_x                                     6076194.17943388\n",
       "date_creat                                           2004-08-09\n",
       "apn                                                  45-5389-25\n",
       "comments                                                   None\n",
       "geometry      POLYGON ((-122.1786108903112 37.72916360817982...\n",
       "Name: 354, dtype: object"
      ]
     },
     "execution_count": 68,
     "metadata": {},
     "output_type": "execute_result"
    }
   ],
   "source": [
    "ac_parcels_poly.iloc[354]"
   ]
  },
  {
   "cell_type": "code",
   "execution_count": null,
   "metadata": {},
   "outputs": [],
   "source": []
  }
 ],
 "metadata": {
  "kernelspec": {
   "display_name": "Python 3",
   "language": "python",
   "name": "python3"
  },
  "language_info": {
   "codemirror_mode": {
    "name": "ipython",
    "version": 3
   },
   "file_extension": ".py",
   "mimetype": "text/x-python",
   "name": "python",
   "nbconvert_exporter": "python",
   "pygments_lexer": "ipython3",
   "version": "3.6.9"
  }
 },
 "nbformat": 4,
 "nbformat_minor": 4
}
