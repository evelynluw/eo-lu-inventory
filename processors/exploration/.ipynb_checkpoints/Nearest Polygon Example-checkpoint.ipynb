{
 "cells": [
  {
   "cell_type": "code",
   "execution_count": 9,
   "metadata": {},
   "outputs": [],
   "source": [
    "import geopandas as gpd\n",
    "import pandas as pd"
   ]
  },
  {
   "cell_type": "code",
   "execution_count": 7,
   "metadata": {},
   "outputs": [],
   "source": [
    "sf_poly = gpd.read_file(\"../../data/raw/ac_parcels\")\n",
    "sf_poly.crs = 'epsg:4326' # set the CRS of the shapefile\n",
    "sf_poly = sf_poly.to_crs('epsg:3857') # transform to a projected geometry for operations"
   ]
  },
  {
   "cell_type": "code",
   "execution_count": 13,
   "metadata": {},
   "outputs": [],
   "source": [
    "d = {'lat': [37.7501568], 'long': [-122.1941158],'location': ['AB&I']} # sample df with coordinates for AB&I Foundry in East Oakland\n",
    "df = pd.DataFrame(data=d)\n",
    "geo_hist_own_sf = gpd.GeoDataFrame(\n",
    "    df, geometry=gpd.points_from_xy(\n",
    "        x=df[\"long\"], y=df[\"lat\"]))"
   ]
  },
  {
   "cell_type": "code",
   "execution_count": null,
   "metadata": {},
   "outputs": [],
   "source": [
    "\n",
    "sf_poly_sindex = sf_poly.sindex\n",
    "\n",
    "def find_closest_parcel(row):\n",
    "    point = row[\"geometry\"]\n",
    "    possible_matches_idx = list(sf_poly_sindex.intersection(point.bounds))\n",
    "    possible_matches = sf_poly.iloc[possible_matches_idx]\n",
    "    hits = possible_matches[possible_matches.intersects(point)]\n",
    "    \n",
    "    closest_idx = None\n",
    "    closest_dist = float(\"inf\")    \n",
    "    if len(hits) == 1:   # a single overlapping parcel: must contain the eviction; 40639 instances ~= 71%\n",
    "        closest_idx = int(hits.index[0])\n",
    "        closest_dist = 0\n",
    "    elif len(hits) > 1:  # multiple overlapping parcels: pick one with closest centroid; 5333 instances ~= 9%\n",
    "        dist_to_centroids = [point.distance(centroid) for centroid in hits.centroid]\n",
    "        closest = np.argmin(dist_to_centroids)\n",
    "        closest_idx = int(hits.index[closest])\n",
    "        closest_dist = 0\n",
    "    else:                # no matches, grab nearest parcel in r-tree; 10472 instances ~= 18%\n",
    "        closest_idx = int(list(sf_poly_sindex.nearest(point.bounds, 1))[0])\n",
    "        closest_dist = sf_poly.iloc[closest_idx][\"geometry\"].distance(point)\n",
    "    return (closest_idx, closest_dist)\n",
    "\n",
    "evictions_geo[[\"parcel_idx\", \"parcel_dist\"]] = evictions_geo.apply(\n",
    "    lambda x: find_closest_parcel(x), axis=1, result_type=\"expand\")"
   ]
  }
 ],
 "metadata": {
  "kernelspec": {
   "display_name": "Python 3",
   "language": "python",
   "name": "python3"
  },
  "language_info": {
   "codemirror_mode": {
    "name": "ipython",
    "version": 3
   },
   "file_extension": ".py",
   "mimetype": "text/x-python",
   "name": "python",
   "nbconvert_exporter": "python",
   "pygments_lexer": "ipython3",
   "version": "3.6.9"
  }
 },
 "nbformat": 4,
 "nbformat_minor": 4
}
